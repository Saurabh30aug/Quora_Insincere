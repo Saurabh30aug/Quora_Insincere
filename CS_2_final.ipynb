{
  "nbformat": 4,
  "nbformat_minor": 0,
  "metadata": {
    "colab": {
      "name": "CS_2_final.ipynb",
      "provenance": []
    },
    "kernelspec": {
      "name": "python3",
      "display_name": "Python 3"
    },
    "language_info": {
      "name": "python"
    }
  },
  "cells": [
    {
      "cell_type": "code",
      "execution_count": 1,
      "metadata": {
        "colab": {
          "base_uri": "https://localhost:8080/"
        },
        "id": "Xrw35BwQoXuH",
        "outputId": "abff94f7-c48f-4bdf-e6a6-9e78349e07b1"
      },
      "outputs": [
        {
          "output_type": "stream",
          "name": "stdout",
          "text": [
            "Mounted at /content/drive\n"
          ]
        }
      ],
      "source": [
        "from google.colab import drive\n",
        "drive.mount('/content/drive')"
      ]
    },
    {
      "cell_type": "code",
      "source": [
        "import numpy as np\n",
        "import matplotlib \n",
        "import matplotlib as mpl \n",
        "import seaborn as sns\n",
        "import pandas as pd\n",
        "import math\n",
        "from sklearn.model_selection import train_test_split\n",
        "from sklearn import metrics\n",
        "import string, re\n",
        "from keras.preprocessing.text import Tokenizer\n",
        "import string\n",
        "import scipy\n",
        "import warnings\n",
        "import sklearn as sk\n",
        "import csv\n",
        "import os\n",
        "import matplotlib.pylab as pylab\n",
        "import matplotlib.pyplot as plt\n",
        "from pandas import get_dummies\n",
        "import matplotlib as mpl \n",
        "import seaborn as sns\n",
        "from sklearn.model_selection import train_test_split\n",
        "from sklearn.metrics import classification_report\n",
        "from sklearn.metrics import confusion_matrix\n",
        "from sklearn.model_selection import train_test_split\n",
        "from sklearn import metrics\n",
        "from sklearn.metrics import accuracy_score\n",
        "from wordcloud import WordCloud as wc\n",
        "from nltk.corpus import stopwords \n",
        "import nltk\n",
        "import json\n",
        "import sys\n",
        "import os\n",
        "import time\n",
        "from tqdm import tqdm\n",
        "from keras.preprocessing.sequence import pad_sequences\n",
        "from keras.layers import Dense, Input, CuDNNLSTM, Embedding, Dropout, Activation, CuDNNGRU, Conv1D\n",
        "from keras.layers import Bidirectional, GlobalMaxPool1D, GlobalMaxPooling1D, GlobalAveragePooling1D\n",
        "from keras.layers import Input, Embedding, Dense, Conv2D, MaxPool2D, concatenate\n",
        "from keras.layers import Reshape, Flatten, Concatenate, Dropout, SpatialDropout1D\n",
        "from tensorflow.keras.optimizers import Adam\n",
        "from keras.models import Model\n",
        "from keras import backend as K\n",
        "from tensorflow.keras import initializers, regularizers, constraints, optimizers, layers"
      ],
      "metadata": {
        "id": "9BjCTHploahU"
      },
      "execution_count": 2,
      "outputs": []
    },
    {
      "cell_type": "code",
      "source": [
        "train =  pd.read_csv(\"/content/drive/My Drive/train.csv\")\n",
        "test  =  pd.read_csv(\"/content/drive/My Drive/test.csv\")\n",
        "print(\"Training data shape : \", train.shape)\n",
        "print(\"Testing  data shape : \", test.shape)"
      ],
      "metadata": {
        "colab": {
          "base_uri": "https://localhost:8080/"
        },
        "id": "8z1bpwyHoi3H",
        "outputId": "7b37af15-fbff-46c2-9f9e-06208ce9a3b4"
      },
      "execution_count": 3,
      "outputs": [
        {
          "output_type": "stream",
          "name": "stdout",
          "text": [
            "Training data shape :  (1306122, 3)\n",
            "Testing  data shape :  (375806, 2)\n"
          ]
        }
      ]
    },
    {
      "cell_type": "code",
      "source": [
        "train = train.sample(frac=0.1, replace=False, random_state=1)\n"
      ],
      "metadata": {
        "id": "1hbSyHKxoo6X"
      },
      "execution_count": 4,
      "outputs": []
    },
    {
      "cell_type": "code",
      "source": [
        "import keras\n",
        "model=keras.models.load_model(\"/content/drive/MyDrive/weights-01-0.9566.hdf5\")"
      ],
      "metadata": {
        "id": "iaIyln4totim"
      },
      "execution_count": 5,
      "outputs": []
    },
    {
      "cell_type": "code",
      "source": [
        "def load_and_preprocess():\n",
        "    train = pd.read_csv(\"/content/drive/MyDrive/train.csv\")\n",
        "    test = pd.read_csv(\"/content/drive/MyDrive/test.csv\")\n",
        "    print(\"Test shape : \",test.shape)\n",
        "    \n",
        "    train['clean_text'] = train['question_text'].apply(clean_word)\n",
        "    test['clean_text'] = test['question_text'].apply(clean_word)\n",
        "    \n",
        "    ## split to train and val\n",
        "    train, val = train_test_split(train, test_size=0.08, random_state=2018)\n",
        "\n",
        "\n",
        "    ## fill up the missing values\n",
        "    train_X = train[\"clean_text\"].fillna(\"_##_\").values\n",
        "    val_X = val[\"clean_text\"].fillna(\"_##_\").values\n",
        "    test_X = test[\"clean_text\"].fillna(\"_##_\").values\n",
        "    \n",
        "    ## Tokenize the sentences\n",
        "    tokenizer = Tokenizer(num_words=max_features)\n",
        "    tokenizer.fit_on_texts(list(train_X))\n",
        "    train_X = tokenizer.texts_to_sequences(train_X)\n",
        "    val_X = tokenizer.texts_to_sequences(val_X)\n",
        "    test_X = tokenizer.texts_to_sequences(test_X)\n",
        "\n",
        "    ## Pad the sentences \n",
        "    train_X = pad_sequences(train_X, maxlen=maxlen)\n",
        "    val_X = pad_sequences(val_X, maxlen=maxlen)\n",
        "    test_X = pad_sequences(test_X, maxlen=maxlen)\n",
        "\n",
        "    ## Get the target values\n",
        "    train_y = train['target'].values\n",
        "    val_y = val['target'].values  \n",
        "    \n",
        "    #shuffling the data\n",
        "    np.random.seed(2018)\n",
        "    trn_idx = np.random.permutation(len(train_X))\n",
        "    val_idx = np.random.permutation(len(val_X))\n",
        "\n",
        "    train_X = train_X[trn_idx]\n",
        "    \n",
        "    val_X = val_X[val_idx]\n",
        "    \n",
        "    train_y = train_y[trn_idx]\n",
        "    \n",
        "    val_y = val_y[val_idx]    \n",
        "    \n",
        "    return train_X, val_X, test_X, train_y, val_y, tokenizer.word_index"
      ],
      "metadata": {
        "id": "-4NWcP2MHxnb"
      },
      "execution_count": 23,
      "outputs": []
    },
    {
      "cell_type": "code",
      "source": [
        "def load_glove_vector(word_index):\n",
        "    embedding_file = '/content/drive/MyDrive/glove.840B.300d/glove.840B.300d.txt'\n",
        "    def get_coefs(word,*arr): \n",
        "      return word, np.asarray(arr, dtype='float32')\n",
        "    embeddings_index = dict(get_coefs(*o.split(\" \")) for o in open(embedding_file))\n",
        "    all_embedding = np.stack(embeddings_index.values())\n",
        "    embedding_mean,embedding_std = all_embedding.mean(), all_embedding.std()\n",
        "    embedding_size = all_embedding.shape[1]\n",
        "    n_b_words = min(max_features, len(word_index))\n",
        "    embedding_matrix = np.random.normal(embedding_mean,embedding_std,(n_b_words,embedding_size))\n",
        "    for word, i in word_index.items():\n",
        "        if i >= max_features: \n",
        "          continue\n",
        "        embedding_vector = embeddings_index.get(word)\n",
        "        if embedding_vector is not None: \n",
        "          embedding_matrix[i] = embedding_vector       \n",
        "    return embedding_matrix    "
      ],
      "metadata": {
        "id": "iNKVaYG-H2JZ"
      },
      "execution_count": 24,
      "outputs": []
    },
    {
      "cell_type": "code",
      "source": [
        "def clean_word(word):\n",
        "    word = re.sub(r\"(\\d+)(k)\", r\"\\g<1>000\", word)\n",
        "    word = re.sub(r\":\", \" : \", word)\n",
        "    word = re.sub(r\" e g \", \" eg \", word)\n",
        "    word = re.sub(r\" b g \", \" bg \", word)\n",
        "    word = re.sub(r\" u s \", \" american \", word)\n",
        "    word = re.sub(r\"\\0s\", \"0\", word)\n",
        "    word = re.sub(r\",\", \" \", word)\n",
        "    word = re.sub(r\"\\.\", \" \", word)\n",
        "    word = re.sub(r\"!\", \" ! \", word)\n",
        "    word = re.sub(r\"\\/\", \" \", word)\n",
        "    word = re.sub(r\"\\^\", \" ^ \", word)\n",
        "    word = re.sub(r\"\\+\", \" + \", word)\n",
        "    word = re.sub(r\"\\-\", \" - \", word)\n",
        "    word = re.sub(r\"\\=\", \" = \", word)\n",
        "    word = re.sub(r\" 9 11 \", \"911\", word)\n",
        "    word = word.translate(string.punctuation)\n",
        "    word = word.lower()\n",
        "    word = re.sub(r\"[^A-Za-z0-9^,!.\\/'+-=]\", \" \", word)\n",
        "    word = re.sub(r\"what's\", \"what is \", word)\n",
        "    word = re.sub(r\"\\'s\", \" \", word)\n",
        "    word = re.sub(r\"\\'ve\", \" have \", word)\n",
        "    word = re.sub(r\"n't\", \" not \", word)\n",
        "    word = re.sub(r\"i'm\", \"i am \", word)\n",
        "    word = re.sub(r\"\\'re\", \" are \", word)\n",
        "    word = re.sub(r\"\\'d\", \" would \", word)\n",
        "    word = re.sub(r\"\\'ll\", \" will \", word)\n",
        "    word = re.sub(r\"'\", \" \", word)\n",
        "    word = re.sub(r\"e - mail\", \"email\", word)\n",
        "    word = re.sub(r\"j k\", \"jk\", word)\n",
        "    word = re.sub(r\"\\s{2,}\", \" \", word)\n",
        "    word = re.sub('[^a-zA-Z]',' ', word)\n",
        "    word = re.sub('  +',' ',word)\n",
        "    return word"
      ],
      "metadata": {
        "id": "NvIyYcVMpStz"
      },
      "execution_count": 6,
      "outputs": []
    },
    {
      "cell_type": "code",
      "source": [
        "embed_size = 300 \n",
        "max_features = 95000\n",
        "maxlen = 70 "
      ],
      "metadata": {
        "id": "UtmORXa082Lu"
      },
      "execution_count": 15,
      "outputs": []
    },
    {
      "cell_type": "markdown",
      "source": [
        "##final_function_one"
      ],
      "metadata": {
        "id": "g7aIuNA8VH6P"
      }
    },
    {
      "cell_type": "code",
      "source": [
        "def final_function_one(tests): \n",
        "    tests[\"clean_text\"]=tests['question_text'].apply(clean_word)\n",
        "    train =  pd.read_csv(\"/content/drive/My Drive/train.csv\")\n",
        "    train[\"clean_text\"]=train['question_text'].apply(clean_word)\n",
        "    train_X = train[\"clean_text\"].fillna(\"_##_\").values\n",
        "    test_X = tests[\"clean_text\"].fillna(\"_##_\").values\n",
        "    #print(train_X)\n",
        "    tokenizer = Tokenizer(num_words=max_features)\n",
        "    tokenizer.fit_on_texts(list(train_X))\n",
        "    test_X = tokenizer.texts_to_sequences(test_X)\n",
        "    val_x = pad_sequences(test_X, maxlen=maxlen)\n",
        "    pred_val_y = model.predict([val_x], batch_size=1024, verbose=0)\n",
        "    #printing the results\n",
        "    print(\"-\" * 100)\n",
        "    print(f\"Predicted Probabilties for given question of being insincere is/are: \",pred_val_y[0][0])\n",
        "    if pred_val_y[0][0]>0.5:\n",
        "      print(f\"The class label for given query point is  :\",\"1 i.e asked question is insincere\")\n",
        "    else:\n",
        "      print(f\"The class label for given query point is  :\",\"0 i.e asked question is sincere\")    "
      ],
      "metadata": {
        "id": "xbu-NoGPo0Cm"
      },
      "execution_count": 21,
      "outputs": []
    },
    {
      "cell_type": "code",
      "source": [
        "test_datapoint_func_1 = test.sample(1)\n",
        "#predicting the output\n",
        "final_function_one(test_datapoint_func_1)"
      ],
      "metadata": {
        "colab": {
          "base_uri": "https://localhost:8080/"
        },
        "id": "szYf-P2Yo-iz",
        "outputId": "d0a5bac9-a294-45db-c773-21514c8c9890"
      },
      "execution_count": 22,
      "outputs": [
        {
          "output_type": "stream",
          "name": "stdout",
          "text": [
            "----------------------------------------------------------------------------------------------------\n",
            "Predicted Probabilties for given question of being insincere is/are:  0.048834056\n",
            "The class label for given query point is  : 0 i.e asked question is sincere\n"
          ]
        }
      ]
    },
    {
      "cell_type": "code",
      "source": [
        "%%time\n",
        "train_X, val_X, test_X, train_y, val_y, word_index = load_and_preprocess()"
      ],
      "metadata": {
        "colab": {
          "base_uri": "https://localhost:8080/"
        },
        "id": "drIQ2DKvNhcl",
        "outputId": "f7bb80fb-ac9f-4f83-c1de-35f625dd143c"
      },
      "execution_count": 25,
      "outputs": [
        {
          "output_type": "stream",
          "name": "stdout",
          "text": [
            "Test shape :  (375806, 2)\n",
            "CPU times: user 2min 40s, sys: 2.71 s, total: 2min 43s\n",
            "Wall time: 2min 51s\n"
          ]
        }
      ]
    },
    {
      "cell_type": "markdown",
      "source": [
        "##final_function_two"
      ],
      "metadata": {
        "id": "s1h7DQgHVCDb"
      }
    },
    {
      "cell_type": "code",
      "source": [
        "def final_function_two(model, val_y,epochs=1):\n",
        "    for e in range(epochs):\n",
        "        pred_val_y = model.predict([val_X], batch_size=1024, verbose=0)\n",
        "        best_thresh = 0.5\n",
        "        best_score = 0.0\n",
        "        for thresh in np.arange(0.1, 0.501, 0.01):\n",
        "            thresh = np.round(thresh, 2)\n",
        "            score = metrics.f1_score(val_y, (pred_val_y > thresh).astype(int))\n",
        "            roc=metrics.roc_auc_score(val_y,pred_val_y)\n",
        "            if score > best_score:\n",
        "                best_thresh = thresh\n",
        "                best_score = score    \n",
        "        print(\"Val F1 Score: {:.4f}\".format(best_score))\n",
        "        print(\"Val ROC Score: {:.4f}\".format(roc))\n",
        "        "
      ],
      "metadata": {
        "id": "lElRBSV27fJD"
      },
      "execution_count": 35,
      "outputs": []
    },
    {
      "cell_type": "code",
      "source": [
        "final_function_two(model,val_y,1)"
      ],
      "metadata": {
        "colab": {
          "base_uri": "https://localhost:8080/"
        },
        "id": "bwfrLlTRHjqi",
        "outputId": "7945bcc7-4405-42c8-c4fc-e26868a9e34e"
      },
      "execution_count": 36,
      "outputs": [
        {
          "output_type": "stream",
          "name": "stdout",
          "text": [
            "Val F1 Score: 0.6509\n",
            "Val ROC Score: 0.9600\n"
          ]
        }
      ]
    }
  ]
}