{
  "nbformat": 4,
  "nbformat_minor": 0,
  "metadata": {
    "colab": {
      "name": "Untitled0.ipynb",
      "provenance": [],
      "collapsed_sections": []
    },
    "kernelspec": {
      "name": "python3",
      "display_name": "Python 3"
    },
    "language_info": {
      "name": "python"
    },
    "accelerator": "GPU"
  },
  "cells": [
    {
      "cell_type": "markdown",
      "source": [
        "**Importing all the required library:-**"
      ],
      "metadata": {
        "id": "Qn77fdsNmXGA"
      }
    },
    {
      "cell_type": "code",
      "source": [
        "!unzip /content/drive/MyDrive/embeddings.zip -d /content/"
      ],
      "metadata": {
        "colab": {
          "base_uri": "https://localhost:8080/"
        },
        "id": "ll0mky-y7Mpq",
        "outputId": "d02b071b-03c3-4f77-ee48-a9224823ec22"
      },
      "execution_count": 2,
      "outputs": [
        {
          "output_type": "stream",
          "name": "stdout",
          "text": [
            "Archive:  /content/drive/MyDrive/embeddings.zip\n",
            "   creating: /content/GoogleNews-vectors-negative300/\n",
            "   creating: /content/glove.840B.300d/\n",
            "   creating: /content/paragram_300_sl999/\n",
            "   creating: /content/wiki-news-300d-1M/\n",
            "  inflating: /content/glove.840B.300d/glove.840B.300d.txt  \n",
            "  inflating: /content/GoogleNews-vectors-negative300/GoogleNews-vectors-negative300.bin  \n",
            "  inflating: /content/wiki-news-300d-1M/wiki-news-300d-1M.vec  \n",
            "  inflating: /content/paragram_300_sl999/README.txt  \n",
            "  inflating: /content/paragram_300_sl999/paragram_300_sl999.txt  \n"
          ]
        }
      ]
    },
    {
      "cell_type": "code",
      "source": [
        "from google.colab import drive\n",
        "drive.mount('/content/drive')"
      ],
      "metadata": {
        "colab": {
          "base_uri": "https://localhost:8080/"
        },
        "id": "WCCNwepn7IlV",
        "outputId": "eba2dbe4-7656-48ba-bbb1-401ff350129d"
      },
      "execution_count": 1,
      "outputs": [
        {
          "output_type": "stream",
          "name": "stdout",
          "text": [
            "Mounted at /content/drive\n"
          ]
        }
      ]
    },
    {
      "cell_type": "code",
      "execution_count": 3,
      "metadata": {
        "id": "-1PXWomQmNEH"
      },
      "outputs": [],
      "source": [
        "import numpy as np\n",
        "import matplotlib \n",
        "import matplotlib as mpl \n",
        "import seaborn as sns\n",
        "import pandas as pd\n",
        "import math\n",
        "from sklearn.model_selection import train_test_split\n",
        "from sklearn import metrics\n",
        "import string, re\n",
        "from keras.preprocessing.text import Tokenizer\n",
        "import string\n",
        "import scipy\n",
        "import warnings\n",
        "import sklearn as sk\n",
        "import csv\n",
        "import os\n",
        "import matplotlib.pylab as pylab\n",
        "import matplotlib.pyplot as plt\n",
        "from pandas import get_dummies\n",
        "import matplotlib as mpl \n",
        "import seaborn as sns\n",
        "from sklearn.model_selection import train_test_split\n",
        "from sklearn.metrics import classification_report\n",
        "from sklearn.metrics import confusion_matrix\n",
        "from sklearn.model_selection import train_test_split\n",
        "from sklearn import metrics\n",
        "from sklearn.metrics import accuracy_score\n",
        "from wordcloud import WordCloud as wc\n",
        "from nltk.corpus import stopwords \n",
        "import nltk\n",
        "import json\n",
        "import sys\n",
        "import os\n",
        "import time\n",
        "from tqdm import tqdm\n",
        "from keras.preprocessing.sequence import pad_sequences\n",
        "from keras.layers import Dense, Input, CuDNNLSTM, Embedding, Dropout, Activation, CuDNNGRU, Conv1D\n",
        "from keras.layers import Bidirectional, GlobalMaxPool1D, GlobalMaxPooling1D, GlobalAveragePooling1D\n",
        "from keras.layers import Input, Embedding, Dense, Conv2D, MaxPool2D, concatenate\n",
        "from keras.layers import Reshape, Flatten, Concatenate, Dropout, SpatialDropout1D\n",
        "from tensorflow.keras.optimizers import Adam\n",
        "from keras.models import Model\n",
        "from keras import backend as K\n",
        "from tensorflow.keras import initializers, regularizers, constraints, optimizers, layers"
      ]
    },
    {
      "cell_type": "markdown",
      "source": [
        "<a id=\"553\"></a> <br>\n",
        "##Stop words\n",
        "Downloading various packages of nltk like stopwords,punkt for removing stopwords:-\n"
      ],
      "metadata": {
        "id": "YubZRGA-E9Br"
      }
    },
    {
      "cell_type": "markdown",
      "source": [
        "**Downloading the nltk package for stopwords:-**"
      ],
      "metadata": {
        "id": "JfzoA3HmheL7"
      }
    },
    {
      "cell_type": "code",
      "source": [
        "import nltk\n",
        "nltk.download('stopwords')"
      ],
      "metadata": {
        "colab": {
          "base_uri": "https://localhost:8080/"
        },
        "id": "j_-RAMXhmnea",
        "outputId": "c10d0b49-e272-4c0e-952a-5e2403b2cea2"
      },
      "execution_count": null,
      "outputs": [
        {
          "output_type": "stream",
          "name": "stdout",
          "text": [
            "[nltk_data] Downloading package stopwords to /root/nltk_data...\n",
            "[nltk_data]   Unzipping corpora/stopwords.zip.\n"
          ]
        },
        {
          "output_type": "execute_result",
          "data": {
            "text/plain": [
              "True"
            ]
          },
          "metadata": {},
          "execution_count": 3
        }
      ]
    },
    {
      "cell_type": "markdown",
      "source": [
        "##Downloading the nltk package for punctuation:-"
      ],
      "metadata": {
        "id": "AMrqgjd8h7SQ"
      }
    },
    {
      "cell_type": "code",
      "source": [
        "import nltk\n",
        "nltk.download('punkt')"
      ],
      "metadata": {
        "colab": {
          "base_uri": "https://localhost:8080/"
        },
        "id": "-d4zgashFG6t",
        "outputId": "baab2fb4-022a-46dd-c2bc-ba5f5fe7da18"
      },
      "execution_count": null,
      "outputs": [
        {
          "output_type": "stream",
          "name": "stdout",
          "text": [
            "[nltk_data] Downloading package punkt to /root/nltk_data...\n",
            "[nltk_data]   Unzipping tokenizers/punkt.zip.\n"
          ]
        },
        {
          "output_type": "execute_result",
          "data": {
            "text/plain": [
              "True"
            ]
          },
          "metadata": {},
          "execution_count": 4
        }
      ]
    },
    {
      "cell_type": "markdown",
      "source": [
        "**importing stopwords module**"
      ],
      "metadata": {
        "id": "5BoIdGYWFj0Q"
      }
    },
    {
      "cell_type": "code",
      "source": [
        "from nltk.corpus import stopwords"
      ],
      "metadata": {
        "id": "dqz3LPw7Fekd"
      },
      "execution_count": null,
      "outputs": []
    },
    {
      "cell_type": "markdown",
      "source": [
        "**From the below statement we get the list of all the stopwords**"
      ],
      "metadata": {
        "id": "JmJvsutBq7OU"
      }
    },
    {
      "cell_type": "code",
      "source": [
        "stopword = set(stopwords.words('english'))"
      ],
      "metadata": {
        "id": "0rQIf1OvFoeT"
      },
      "execution_count": null,
      "outputs": []
    },
    {
      "cell_type": "code",
      "source": [
        "print(len(stopword))\n",
        "print(stopword)"
      ],
      "metadata": {
        "colab": {
          "base_uri": "https://localhost:8080/"
        },
        "id": "eu3qQwe9FwRz",
        "outputId": "1cc174d9-3107-4afb-984d-1c10c209bfe8"
      },
      "execution_count": null,
      "outputs": [
        {
          "output_type": "stream",
          "name": "stdout",
          "text": [
            "179\n",
            "{\"you've\", 'each', 'she', 'through', 'been', 'it', 'were', 'such', 'wasn', \"needn't\", 'of', \"should've\", 'themselves', 'aren', 'm', 'during', 'no', 'some', 'until', 'are', 'because', 'he', 'here', 'same', 'yours', 'hasn', 'other', 'into', \"don't\", \"mightn't\", \"weren't\", 'why', 'but', 'won', 'can', 'while', \"she's\", 'them', 'am', 'too', \"haven't\", 'when', 'before', 'few', 'between', 'her', 'than', 'they', \"it's\", 'll', 'over', 'any', 'has', 'both', 'once', 'yourselves', 'myself', 'just', 'below', 'y', 'him', 'me', 'being', 'further', 'under', \"shouldn't\", 'theirs', 'don', 'herself', 'hers', 'most', 'had', 'will', 'nor', 'how', 'if', \"hadn't\", 'yourself', 'doing', \"hasn't\", 'needn', 'you', \"wasn't\", 're', 'couldn', 'does', \"isn't\", 'its', 'do', 'doesn', 'about', 'my', 'should', 'up', 'ourselves', 'from', 'now', 'very', 'by', 'itself', 'again', 'their', \"you'd\", 's', \"that'll\", 'after', 'there', 'or', 'not', 'with', 'having', 'these', 'mustn', 'this', \"didn't\", 'who', 'then', 'and', 'weren', 'that', 'whom', \"shan't\", 'his', 'out', 'off', 'on', 'hadn', 'what', 'isn', \"mustn't\", 'only', 'which', 'more', 'shan', 't', 'is', 'those', 'as', 'be', \"wouldn't\", 'where', 'ours', 'have', \"you'll\", 'the', 'at', 'your', 'in', 'down', \"you're\", 'himself', 'an', 'for', 'against', 'd', 'was', 'did', \"doesn't\", 'we', 'mightn', \"couldn't\", 'didn', 'a', 'o', 've', 'our', \"aren't\", 'wouldn', 'all', 'i', 'haven', 'shouldn', 'to', 'ma', \"won't\", 'ain', 'above', 'own', 'so'}\n"
          ]
        }
      ]
    },
    {
      "cell_type": "markdown",
      "source": [
        "**Observations:The returned list stopword contains 179 stop words which means we will be going to remove all this 179 words from the question_text column from the data.**"
      ],
      "metadata": {
        "id": "xz45_bYyugcd"
      }
    },
    {
      "cell_type": "markdown",
      "source": [
        "<a id=\"6\"></a> <br>\n",
        "## Exploratory Data Analysis and Preprocessing\n",
        "We will be doing exploratory data analysis and preprocessing in below four steps:-\n",
        "1. Gathering Data\n",
        "1. Data Visualization\n",
        "1. Data Scrubbing\n",
        "1. Data Preprocessing\n"
      ],
      "metadata": {
        "id": "WRQtV6yHGd8r"
      }
    },
    {
      "cell_type": "markdown",
      "source": [
        "\n",
        "##Gathering Data:-\n"
      ],
      "metadata": {
        "id": "XExnQS38HQQH"
      }
    },
    {
      "cell_type": "code",
      "source": [
        "train =  pd.read_csv(\"/content/drive/My Drive/train.csv\")\n",
        "test  =  pd.read_csv(\"/content/drive/My Drive/test.csv\")\n",
        "print(\"Training data shape : \", train.shape)\n",
        "print(\"Testing  data shape : \", test.shape)"
      ],
      "metadata": {
        "colab": {
          "base_uri": "https://localhost:8080/"
        },
        "id": "UgQKDpnvGYow",
        "outputId": "2af35c0d-b484-46f9-b4f4-db38dbedfb79"
      },
      "execution_count": 5,
      "outputs": [
        {
          "output_type": "stream",
          "name": "stdout",
          "text": [
            "Training data shape :  (1306122, 3)\n",
            "Testing  data shape :  (375806, 2)\n"
          ]
        }
      ]
    },
    {
      "cell_type": "code",
      "source": [
        "train = train.sample(frac=0.1, replace=False, random_state=1)\n"
      ],
      "metadata": {
        "id": "3x1RA_xXvnei"
      },
      "execution_count": 6,
      "outputs": []
    },
    {
      "cell_type": "markdown",
      "source": [
        "**The below functions clean_word used to preprocess the text by using various technique of regular expression:-**"
      ],
      "metadata": {
        "id": "Jn3OZwEEe0I6"
      }
    },
    {
      "cell_type": "code",
      "source": [
        "def clean_word(word):\n",
        "    word = re.sub(r\"(\\d+)(k)\", r\"\\g<1>000\", word)\n",
        "    word = re.sub(r\":\", \" : \", word)\n",
        "    word = re.sub(r\" e g \", \" eg \", word)\n",
        "    word = re.sub(r\" b g \", \" bg \", word)\n",
        "    word = re.sub(r\" u s \", \" american \", word)\n",
        "    word = re.sub(r\"\\0s\", \"0\", word)\n",
        "    word = re.sub(r\",\", \" \", word)\n",
        "    word = re.sub(r\"\\.\", \" \", word)\n",
        "    word = re.sub(r\"!\", \" ! \", word)\n",
        "    word = re.sub(r\"\\/\", \" \", word)\n",
        "    word = re.sub(r\"\\^\", \" ^ \", word)\n",
        "    word = re.sub(r\"\\+\", \" + \", word)\n",
        "    word = re.sub(r\"\\-\", \" - \", word)\n",
        "    word = re.sub(r\"\\=\", \" = \", word)\n",
        "    word = re.sub(r\" 9 11 \", \"911\", word)\n",
        "    word = word.translate(string.punctuation)\n",
        "    word = word.lower()\n",
        "    word = re.sub(r\"[^A-Za-z0-9^,!.\\/'+-=]\", \" \", word)\n",
        "    word = re.sub(r\"what's\", \"what is \", word)\n",
        "    word = re.sub(r\"\\'s\", \" \", word)\n",
        "    word = re.sub(r\"\\'ve\", \" have \", word)\n",
        "    word = re.sub(r\"n't\", \" not \", word)\n",
        "    word = re.sub(r\"i'm\", \"i am \", word)\n",
        "    word = re.sub(r\"\\'re\", \" are \", word)\n",
        "    word = re.sub(r\"\\'d\", \" would \", word)\n",
        "    word = re.sub(r\"\\'ll\", \" will \", word)\n",
        "    word = re.sub(r\"'\", \" \", word)\n",
        "    word = re.sub(r\"e - mail\", \"email\", word)\n",
        "    word = re.sub(r\"j k\", \"jk\", word)\n",
        "    word = re.sub(r\"\\s{2,}\", \" \", word)\n",
        "    word = re.sub('[^a-zA-Z]',' ', word)\n",
        "    word = re.sub('  +',' ',word)\n",
        "    return word"
      ],
      "metadata": {
        "id": "b3OlDXjOHWNQ"
      },
      "execution_count": null,
      "outputs": []
    },
    {
      "cell_type": "markdown",
      "source": [
        "**The below functions load_and_preprocess used to load and preprocess the data:-**"
      ],
      "metadata": {
        "id": "eZ0frdNjfoqf"
      }
    },
    {
      "cell_type": "code",
      "source": [
        "def load_and_preprocess():\n",
        "    train = pd.read_csv(\"/content/drive/MyDrive/train.csv\")\n",
        "    test = pd.read_csv(\"/content/drive/MyDrive/test.csv\")\n",
        "    print(\"Test shape : \",test.shape)\n",
        "    \n",
        "    train['clean_text'] = train['question_text'].apply(clean_word)\n",
        "    test['clean_text'] = test['question_text'].apply(clean_word)\n",
        "    \n",
        "    ## split to train and val\n",
        "    train, val = train_test_split(train, test_size=0.08, random_state=2018)\n",
        "\n",
        "\n",
        "    ## fill up the missing values\n",
        "    train_X = train[\"clean_text\"].fillna(\"_##_\").values\n",
        "    val_X = val[\"clean_text\"].fillna(\"_##_\").values\n",
        "    test_X = test[\"clean_text\"].fillna(\"_##_\").values\n",
        "    \n",
        "    ## Tokenize the sentences\n",
        "    tokenizer = Tokenizer(num_words=max_features)\n",
        "    tokenizer.fit_on_texts(list(train_X))\n",
        "    train_X = tokenizer.texts_to_sequences(train_X)\n",
        "    val_X = tokenizer.texts_to_sequences(val_X)\n",
        "    test_X = tokenizer.texts_to_sequences(test_X)\n",
        "\n",
        "    ## Pad the sentences \n",
        "    train_X = pad_sequences(train_X, maxlen=maxlen)\n",
        "    val_X = pad_sequences(val_X, maxlen=maxlen)\n",
        "    test_X = pad_sequences(test_X, maxlen=maxlen)\n",
        "\n",
        "    ## Get the target values\n",
        "    train_y = train['target'].values\n",
        "    val_y = val['target'].values  \n",
        "    \n",
        "    #shuffling the data\n",
        "    np.random.seed(2018)\n",
        "    trn_idx = np.random.permutation(len(train_X))\n",
        "    val_idx = np.random.permutation(len(val_X))\n",
        "\n",
        "    train_X = train_X[trn_idx]\n",
        "    \n",
        "    val_X = val_X[val_idx]\n",
        "    \n",
        "    train_y = train_y[trn_idx]\n",
        "    \n",
        "    val_y = val_y[val_idx]    \n",
        "    \n",
        "    return train_X, val_X, test_X, train_y, val_y, tokenizer.word_index"
      ],
      "metadata": {
        "id": "VDV6oUgZOpSy"
      },
      "execution_count": null,
      "outputs": []
    },
    {
      "cell_type": "markdown",
      "source": [
        "**The below functions load_glove_vector used to convert the text i.e index value into 300 dimesion vectors and with the help of that we will be creating an embedding matrix and finally return that embedding matrix:-**"
      ],
      "metadata": {
        "id": "NTRz22P3f4BC"
      }
    },
    {
      "cell_type": "code",
      "source": [
        "def load_glove_vector(word_index):\n",
        "    embedding_file = '/content/drive/MyDrive/glove.840B.300d/glove.840B.300d.txt'\n",
        "    def get_coefs(word,*arr): \n",
        "      return word, np.asarray(arr, dtype='float32')\n",
        "    embeddings_index = dict(get_coefs(*o.split(\" \")) for o in open(embedding_file))\n",
        "    all_embedding = np.stack(embeddings_index.values())\n",
        "    embedding_mean,embedding_std = all_embedding.mean(), all_embedding.std()\n",
        "    embedding_size = all_embedding.shape[1]\n",
        "    n_b_words = min(max_features, len(word_index))\n",
        "    embedding_matrix = np.random.normal(embedding_mean,embedding_std,(n_b_words,embedding_size))\n",
        "    for word, i in word_index.items():\n",
        "        if i >= max_features: \n",
        "          continue\n",
        "        embedding_vector = embeddings_index.get(word)\n",
        "        if embedding_vector is not None: \n",
        "          embedding_matrix[i] = embedding_vector       \n",
        "    return embedding_matrix    "
      ],
      "metadata": {
        "id": "-aghmAvJJPP1"
      },
      "execution_count": null,
      "outputs": []
    },
    {
      "cell_type": "code",
      "source": [
        "def load_fast_text(word_index):    \n",
        "    embedding_file = '/content/drive/MyDrive/wiki-news-300d-1M/wiki-news-300d-1M.vec'\n",
        "    def get_coefs(word,*arr): \n",
        "      return word, np.asarray(arr, dtype='float32')\n",
        "    embeddings_index = dict(get_coefs(*o.split(\" \")) for o in open(embedding_file) if len(o)>100)\n",
        "    all_embedding = np.stack(embeddings_index.values())\n",
        "    embedding_mean,embedding_std = all_embedding.mean(), all_embedding.std()\n",
        "    embedding_size = all_embedding.shape[1]\n",
        "    n_b_words = min(max_features, len(word_index))\n",
        "    embedding_matrix = np.random.normal(embedding_mean, embedding_std, (n_b_words, embedding_size))\n",
        "    for word, i in word_index.items():\n",
        "        if i >= max_features: \n",
        "          continue\n",
        "        embedding_vector = embeddings_index.get(word)\n",
        "        if embedding_vector is not None: \n",
        "          embedding_matrix[i] = embedding_vector       \n",
        "    return embedding_matrix    "
      ],
      "metadata": {
        "id": "DP9qSbhMemNs"
      },
      "execution_count": null,
      "outputs": []
    },
    {
      "cell_type": "code",
      "source": [
        "def load_paragraph(word_index):\n",
        "    embedding_file = '/content/drive/MyDrive/paragram_300_sl999/paragram_300_sl999.txt'\n",
        "    def get_coefs(word,*arr): \n",
        "      return word, np.asarray(arr, dtype='float32')\n",
        "    embeddings_index = dict(get_coefs(*o.split(\" \")) for o in open(embedding_file, encoding=\"utf8\", errors='ignore') if len(o)>100)\n",
        "    all_embedding = np.stack(embeddings_index.values())\n",
        "    embedding_mean,embedding_std = all_embedding.mean(), all_embedding.std()\n",
        "    embedding_size = all_embedding.shape[1]\n",
        "    n_b_words = min(max_features, len(word_index))\n",
        "    embedding_matrix = np.random.normal(embedding_mean, embedding_std, (n_b_words, embedding_size))\n",
        "    for word, i in word_index.items():\n",
        "        if i >= max_features: \n",
        "          continue\n",
        "        embedding_vector = embeddings_index.get(word)\n",
        "        if embedding_vector is not None: \n",
        "          embedding_matrix[i] = embedding_vector       \n",
        "    return embedding_matrix    "
      ],
      "metadata": {
        "id": "S_5nBWq7ept2"
      },
      "execution_count": null,
      "outputs": []
    },
    {
      "cell_type": "markdown",
      "source": [
        "**model_lstm_du function is used to train the LSTM model on the textual data after featurisation and feature engineering:-**"
      ],
      "metadata": {
        "id": "2lx_jBloghRV"
      }
    },
    {
      "cell_type": "code",
      "source": [
        "def model_lstm_du(embedding_matrix):\n",
        "    input = Input(shape=(maxlen,))\n",
        "    X = Embedding(max_features, embed_size, weights=[embedding_matrix])(input)\n",
        "    X = Bidirectional(CuDNNGRU(64, return_sequences=True))(X)\n",
        "    average_pooling = GlobalAveragePooling1D()(X)\n",
        "    max_pooling = GlobalMaxPooling1D()(X)\n",
        "    concat = concatenate([average_pooling,max_pooling])\n",
        "    concat = Dense(64, activation=\"relu\")(concat)\n",
        "    concat = Dropout(0.1)(concat)\n",
        "    output = Dense(1, activation=\"sigmoid\")(concat)\n",
        "    model = Model(inputs=input, outputs=output)\n",
        "    model.compile(loss='binary_crossentropy', optimizer='adam', metrics=['accuracy'])\n",
        "    return model"
      ],
      "metadata": {
        "id": "LDJy9zQYNk8Z"
      },
      "execution_count": null,
      "outputs": []
    },
    {
      "cell_type": "markdown",
      "source": [
        "**The below function will take the model as the input and return pred_val_y, pred_test_y, best_score**"
      ],
      "metadata": {
        "id": "nMo-lzL1xFFX"
      }
    },
    {
      "cell_type": "code",
      "source": [
        "def train_pred(model, epochs=2):\n",
        "    for i in range(epochs):\n",
        "        model.fit(train_data_X, train_y, batch_size=512, epochs=1, validation_data=(val_data_X, val_y))\n",
        "        pred_val_y = model.predict([val_data_X], batch_size=1024, verbose=0)\n",
        "        best_threshold = 0.5\n",
        "        best_score = 0.0\n",
        "        for threshold in np.arange(0.1, 0.501, 0.01):\n",
        "            threshold = np.round(threshold, 2)\n",
        "            score = metrics.f1_score(val_y, (pred_val_y > threshold).astype(int))\n",
        "            if score > best_score:\n",
        "                best_threshold = threshold\n",
        "                best_score = score\n",
        "        print(\"Val F1 Score: {:.4f}\".format(best_score))\n",
        "    pred_test_y = model.predict([test_data_X], batch_size=1024, verbose=0)\n",
        "    return pred_val_y, pred_test_y, best_score"
      ],
      "metadata": {
        "id": "h782iDoTNorl"
      },
      "execution_count": null,
      "outputs": []
    },
    {
      "cell_type": "markdown",
      "source": [
        "**Feature information:-**"
      ],
      "metadata": {
        "id": "0RtxLH8-OGrr"
      }
    },
    {
      "cell_type": "code",
      "source": [
        "print(train.info())"
      ],
      "metadata": {
        "colab": {
          "base_uri": "https://localhost:8080/"
        },
        "id": "d89kicG5N-wa",
        "outputId": "e215d6e1-445c-4481-cc44-b5ac5d0746ed"
      },
      "execution_count": null,
      "outputs": [
        {
          "output_type": "stream",
          "name": "stdout",
          "text": [
            "<class 'pandas.core.frame.DataFrame'>\n",
            "Int64Index: 130612 entries, 414550 to 1056019\n",
            "Data columns (total 3 columns):\n",
            " #   Column         Non-Null Count   Dtype \n",
            "---  ------         --------------   ----- \n",
            " 0   qid            130612 non-null  object\n",
            " 1   question_text  130612 non-null  object\n",
            " 2   target         130612 non-null  int64 \n",
            "dtypes: int64(1), object(2)\n",
            "memory usage: 4.0+ MB\n",
            "None\n"
          ]
        }
      ]
    },
    {
      "cell_type": "markdown",
      "source": [
        "**Observation:Train dataset contains 3 column qid,question_text,target**"
      ],
      "metadata": {
        "id": "32yKbgHr3Qsl"
      }
    },
    {
      "cell_type": "code",
      "source": [
        "print(test.info())"
      ],
      "metadata": {
        "colab": {
          "base_uri": "https://localhost:8080/"
        },
        "id": "cOFSgYgqOK4X",
        "outputId": "c2a0a38c-bd56-4b4e-ebdc-2d78b42e5657"
      },
      "execution_count": null,
      "outputs": [
        {
          "output_type": "stream",
          "name": "stdout",
          "text": [
            "<class 'pandas.core.frame.DataFrame'>\n",
            "RangeIndex: 375806 entries, 0 to 375805\n",
            "Data columns (total 2 columns):\n",
            " #   Column         Non-Null Count   Dtype \n",
            "---  ------         --------------   ----- \n",
            " 0   qid            375806 non-null  object\n",
            " 1   question_text  375806 non-null  object\n",
            "dtypes: object(2)\n",
            "memory usage: 5.7+ MB\n",
            "None\n"
          ]
        }
      ]
    },
    {
      "cell_type": "markdown",
      "source": [
        "**Observation:Test dataset contains 3 column qid,question_text,target**"
      ],
      "metadata": {
        "id": "-EaKysng3onx"
      }
    },
    {
      "cell_type": "code",
      "source": [
        "type(train)"
      ],
      "metadata": {
        "colab": {
          "base_uri": "https://localhost:8080/"
        },
        "id": "yDY0edHbOTQS",
        "outputId": "1f919d49-86c3-42d5-e8ab-6cafb0e16261"
      },
      "execution_count": null,
      "outputs": [
        {
          "output_type": "execute_result",
          "data": {
            "text/plain": [
              "pandas.core.frame.DataFrame"
            ]
          },
          "metadata": {},
          "execution_count": 19
        }
      ]
    },
    {
      "cell_type": "code",
      "source": [
        "type(test)"
      ],
      "metadata": {
        "colab": {
          "base_uri": "https://localhost:8080/"
        },
        "id": "93H9MsjxOo--",
        "outputId": "16200d87-1e57-469b-cc53-5e7013468998"
      },
      "execution_count": null,
      "outputs": [
        {
          "output_type": "execute_result",
          "data": {
            "text/plain": [
              "pandas.core.frame.DataFrame"
            ]
          },
          "metadata": {},
          "execution_count": 20
        }
      ]
    },
    {
      "cell_type": "markdown",
      "source": [
        "**description of train dataset**"
      ],
      "metadata": {
        "id": "bX0vUhitxrw4"
      }
    },
    {
      "cell_type": "code",
      "source": [
        "train.describe() "
      ],
      "metadata": {
        "colab": {
          "base_uri": "https://localhost:8080/",
          "height": 300
        },
        "id": "PVVXkHfEOsqM",
        "outputId": "c7f9629a-5c95-4aeb-da7e-156157d2747a"
      },
      "execution_count": null,
      "outputs": [
        {
          "output_type": "execute_result",
          "data": {
            "text/plain": [
              "              target\n",
              "count  130612.000000\n",
              "mean        0.062835\n",
              "std         0.242667\n",
              "min         0.000000\n",
              "25%         0.000000\n",
              "50%         0.000000\n",
              "75%         0.000000\n",
              "max         1.000000"
            ],
            "text/html": [
              "\n",
              "  <div id=\"df-f3781282-bbc8-490d-9677-8cb3a04f08b8\">\n",
              "    <div class=\"colab-df-container\">\n",
              "      <div>\n",
              "<style scoped>\n",
              "    .dataframe tbody tr th:only-of-type {\n",
              "        vertical-align: middle;\n",
              "    }\n",
              "\n",
              "    .dataframe tbody tr th {\n",
              "        vertical-align: top;\n",
              "    }\n",
              "\n",
              "    .dataframe thead th {\n",
              "        text-align: right;\n",
              "    }\n",
              "</style>\n",
              "<table border=\"1\" class=\"dataframe\">\n",
              "  <thead>\n",
              "    <tr style=\"text-align: right;\">\n",
              "      <th></th>\n",
              "      <th>target</th>\n",
              "    </tr>\n",
              "  </thead>\n",
              "  <tbody>\n",
              "    <tr>\n",
              "      <th>count</th>\n",
              "      <td>130612.000000</td>\n",
              "    </tr>\n",
              "    <tr>\n",
              "      <th>mean</th>\n",
              "      <td>0.062835</td>\n",
              "    </tr>\n",
              "    <tr>\n",
              "      <th>std</th>\n",
              "      <td>0.242667</td>\n",
              "    </tr>\n",
              "    <tr>\n",
              "      <th>min</th>\n",
              "      <td>0.000000</td>\n",
              "    </tr>\n",
              "    <tr>\n",
              "      <th>25%</th>\n",
              "      <td>0.000000</td>\n",
              "    </tr>\n",
              "    <tr>\n",
              "      <th>50%</th>\n",
              "      <td>0.000000</td>\n",
              "    </tr>\n",
              "    <tr>\n",
              "      <th>75%</th>\n",
              "      <td>0.000000</td>\n",
              "    </tr>\n",
              "    <tr>\n",
              "      <th>max</th>\n",
              "      <td>1.000000</td>\n",
              "    </tr>\n",
              "  </tbody>\n",
              "</table>\n",
              "</div>\n",
              "      <button class=\"colab-df-convert\" onclick=\"convertToInteractive('df-f3781282-bbc8-490d-9677-8cb3a04f08b8')\"\n",
              "              title=\"Convert this dataframe to an interactive table.\"\n",
              "              style=\"display:none;\">\n",
              "        \n",
              "  <svg xmlns=\"http://www.w3.org/2000/svg\" height=\"24px\"viewBox=\"0 0 24 24\"\n",
              "       width=\"24px\">\n",
              "    <path d=\"M0 0h24v24H0V0z\" fill=\"none\"/>\n",
              "    <path d=\"M18.56 5.44l.94 2.06.94-2.06 2.06-.94-2.06-.94-.94-2.06-.94 2.06-2.06.94zm-11 1L8.5 8.5l.94-2.06 2.06-.94-2.06-.94L8.5 2.5l-.94 2.06-2.06.94zm10 10l.94 2.06.94-2.06 2.06-.94-2.06-.94-.94-2.06-.94 2.06-2.06.94z\"/><path d=\"M17.41 7.96l-1.37-1.37c-.4-.4-.92-.59-1.43-.59-.52 0-1.04.2-1.43.59L10.3 9.45l-7.72 7.72c-.78.78-.78 2.05 0 2.83L4 21.41c.39.39.9.59 1.41.59.51 0 1.02-.2 1.41-.59l7.78-7.78 2.81-2.81c.8-.78.8-2.07 0-2.86zM5.41 20L4 18.59l7.72-7.72 1.47 1.35L5.41 20z\"/>\n",
              "  </svg>\n",
              "      </button>\n",
              "      \n",
              "  <style>\n",
              "    .colab-df-container {\n",
              "      display:flex;\n",
              "      flex-wrap:wrap;\n",
              "      gap: 12px;\n",
              "    }\n",
              "\n",
              "    .colab-df-convert {\n",
              "      background-color: #E8F0FE;\n",
              "      border: none;\n",
              "      border-radius: 50%;\n",
              "      cursor: pointer;\n",
              "      display: none;\n",
              "      fill: #1967D2;\n",
              "      height: 32px;\n",
              "      padding: 0 0 0 0;\n",
              "      width: 32px;\n",
              "    }\n",
              "\n",
              "    .colab-df-convert:hover {\n",
              "      background-color: #E2EBFA;\n",
              "      box-shadow: 0px 1px 2px rgba(60, 64, 67, 0.3), 0px 1px 3px 1px rgba(60, 64, 67, 0.15);\n",
              "      fill: #174EA6;\n",
              "    }\n",
              "\n",
              "    [theme=dark] .colab-df-convert {\n",
              "      background-color: #3B4455;\n",
              "      fill: #D2E3FC;\n",
              "    }\n",
              "\n",
              "    [theme=dark] .colab-df-convert:hover {\n",
              "      background-color: #434B5C;\n",
              "      box-shadow: 0px 1px 3px 1px rgba(0, 0, 0, 0.15);\n",
              "      filter: drop-shadow(0px 1px 2px rgba(0, 0, 0, 0.3));\n",
              "      fill: #FFFFFF;\n",
              "    }\n",
              "  </style>\n",
              "\n",
              "      <script>\n",
              "        const buttonEl =\n",
              "          document.querySelector('#df-f3781282-bbc8-490d-9677-8cb3a04f08b8 button.colab-df-convert');\n",
              "        buttonEl.style.display =\n",
              "          google.colab.kernel.accessAllowed ? 'block' : 'none';\n",
              "\n",
              "        async function convertToInteractive(key) {\n",
              "          const element = document.querySelector('#df-f3781282-bbc8-490d-9677-8cb3a04f08b8');\n",
              "          const dataTable =\n",
              "            await google.colab.kernel.invokeFunction('convertToInteractive',\n",
              "                                                     [key], {});\n",
              "          if (!dataTable) return;\n",
              "\n",
              "          const docLinkHtml = 'Like what you see? Visit the ' +\n",
              "            '<a target=\"_blank\" href=https://colab.research.google.com/notebooks/data_table.ipynb>data table notebook</a>'\n",
              "            + ' to learn more about interactive tables.';\n",
              "          element.innerHTML = '';\n",
              "          dataTable['output_type'] = 'display_data';\n",
              "          await google.colab.output.renderOutput(dataTable, element);\n",
              "          const docLink = document.createElement('div');\n",
              "          docLink.innerHTML = docLinkHtml;\n",
              "          element.appendChild(docLink);\n",
              "        }\n",
              "      </script>\n",
              "    </div>\n",
              "  </div>\n",
              "  "
            ]
          },
          "metadata": {},
          "execution_count": 21
        }
      ]
    },
    {
      "cell_type": "markdown",
      "source": [
        "**Check whether dataset contain any null value or not:-**"
      ],
      "metadata": {
        "id": "w7UIdH4737bT"
      }
    },
    {
      "cell_type": "code",
      "source": [
        "train.isnull().sum()"
      ],
      "metadata": {
        "colab": {
          "base_uri": "https://localhost:8080/"
        },
        "id": "tymcLsuSOwCp",
        "outputId": "3ca8f840-f4ca-4457-8b46-ba52baa333b8"
      },
      "execution_count": null,
      "outputs": [
        {
          "output_type": "execute_result",
          "data": {
            "text/plain": [
              "qid              0\n",
              "question_text    0\n",
              "target           0\n",
              "dtype: int64"
            ]
          },
          "metadata": {},
          "execution_count": 22
        }
      ]
    },
    {
      "cell_type": "markdown",
      "source": [
        "\n",
        "**Observation:**\n",
        "**As we seen above there is no null values,so we have not to fillna() values.** \n",
        "\n",
        "\n",
        "\n"
      ],
      "metadata": {
        "id": "KYsjvBtLSojR"
      }
    },
    {
      "cell_type": "markdown",
      "source": [
        "**number of unique item for Target**"
      ],
      "metadata": {
        "id": "tjZrUaj98oqb"
      }
    },
    {
      "cell_type": "code",
      "source": [
        "train_target = train['target'].values\n",
        "np.unique(train_target) "
      ],
      "metadata": {
        "colab": {
          "base_uri": "https://localhost:8080/"
        },
        "id": "g2QVg7VwSiW9",
        "outputId": "29ebb70a-0e76-4fc6-b518-23fc2578bdc8"
      },
      "execution_count": null,
      "outputs": [
        {
          "output_type": "execute_result",
          "data": {
            "text/plain": [
              "array([0, 1])"
            ]
          },
          "metadata": {},
          "execution_count": 23
        }
      ]
    },
    {
      "cell_type": "markdown",
      "source": [
        "**Observation:We can see that this is a binary class classification problem:-**"
      ],
      "metadata": {
        "id": "fsH0t4z188yR"
      }
    },
    {
      "cell_type": "markdown",
      "source": [
        "**Text Pre-processing Techniques**\n"
      ],
      "metadata": {
        "id": "52XZ7sNbZuqF"
      }
    },
    {
      "cell_type": "code",
      "source": [
        "X_train = train[\"question_text\"].fillna(\"dieter\").values\n",
        "X_test = test[\"question_text\"].fillna(\"dieter\").values\n",
        "y = train[\"target\"]\n",
        "text = train['question_text']\n",
        "\n",
        "for row in text[:10]:\n",
        "    print(row)"
      ],
      "metadata": {
        "colab": {
          "base_uri": "https://localhost:8080/"
        },
        "id": "ZtT4HNeqSzFX",
        "outputId": "dec82ce4-455c-4657-8a0f-8820a1b61233"
      },
      "execution_count": null,
      "outputs": [
        {
          "output_type": "stream",
          "name": "stdout",
          "text": [
            "How likely is gay marriage being legalized in the Republic of China this year (2017)?\n",
            "Is politics the most corrupt profession?\n",
            "How do I get a walk up campsite at Yosemite?\n",
            "How was Banner Health established?\n",
            "Do you feel proud or ashamed telling that you work in insurance industry because people run away from insurance agent?\n",
            "When did the line between Light/heavy/medium tanks start to blur into the first signs of the MBT?\n",
            "What are some well known stories of a blessing actually being a curse?\n",
            "What do you think is the ratio of students from private and government schools who have enrolled for online learning platforms such as Byju's etc.?\n",
            "If person turns data off and then reply someone does it then show the new last seen?\n",
            "What were William John \"Bill\" Nixon's major accomplishments as a footballer?\n"
          ]
        }
      ]
    },
    {
      "cell_type": "markdown",
      "source": [
        "**The below function is used to Remove Integers from each row of question_text column:-**"
      ],
      "metadata": {
        "id": "GvleOpgHahFq"
      }
    },
    {
      "cell_type": "code",
      "source": [
        "def removeintegers(text):\n",
        "    texts=''\n",
        "    for i in text:\n",
        "      if not i.isdigit():\n",
        "        texts+=i     \n",
        "    return texts\n",
        "\n",
        "text_removeintegers = pd.DataFrame(columns=['TextBefore', 'TextAfter', 'Changed'])\n",
        "text_removeintegers['TextBefore'] = text.copy()"
      ],
      "metadata": {
        "id": "6EMH08EPaLxl"
      },
      "execution_count": null,
      "outputs": []
    },
    {
      "cell_type": "code",
      "source": [
        "for index, row in text_removeintegers.iterrows():\n",
        "    row['TextAfter'] = removeintegers(row['TextBefore'])"
      ],
      "metadata": {
        "id": "GNWNUqtMalfc"
      },
      "execution_count": null,
      "outputs": []
    },
    {
      "cell_type": "code",
      "source": [
        "for index, rows in text_removeintegers[text_removeintegers['Changed']=='yes'].head().iterrows():\n",
        "    print(rows['TextBefore'],'->',rows['TextAfter'])"
      ],
      "metadata": {
        "id": "xhLNepPoazOv"
      },
      "execution_count": null,
      "outputs": []
    },
    {
      "cell_type": "markdown",
      "source": [
        "**importing regular expression library:-**"
      ],
      "metadata": {
        "id": "zJn20i7g-DVf"
      }
    },
    {
      "cell_type": "code",
      "source": [
        "import re "
      ],
      "metadata": {
        "id": "ReAFCDpRbcTj"
      },
      "execution_count": null,
      "outputs": []
    },
    {
      "cell_type": "markdown",
      "source": [
        "The below function will replace repetitions of:-\n",
        "\n",
        "*   exlamation marks\n",
        "*   stop marks\n",
        "*   question marks"
      ],
      "metadata": {
        "id": "5r7JxR-0-TMF"
      }
    },
    {
      "cell_type": "code",
      "source": [
        "def replace(text):\n",
        "    text = re.sub(r\"(\\!)\\1+\", ' multiExclamation ', text)\n",
        "    text = re.sub(r\"(\\?)\\1+\", ' multiQuestion ', text)\n",
        "    text = re.sub(r\"(\\.)\\1+\", ' multiStop ', text)\n",
        "    return text\n",
        "\n",
        "text_replaceRepOfPunct = pd.DataFrame(columns=['TextBefore', 'TextAfter', 'Changed'])\n",
        "text_replaceRepOfPunct['TextBefore'] = text.copy()"
      ],
      "metadata": {
        "id": "ti_b90amdnC4"
      },
      "execution_count": null,
      "outputs": []
    },
    {
      "cell_type": "code",
      "source": [
        "for index, row in text_replaceRepOfPunct.iterrows():\n",
        "    row['TextAfter'] = replace(row['TextBefore'])"
      ],
      "metadata": {
        "id": "faqYE9xNdq-w"
      },
      "execution_count": null,
      "outputs": []
    },
    {
      "cell_type": "code",
      "source": [
        "text_replaceRepOfPunct['Changed'] = np.where(text_replaceRepOfPunct['TextBefore']==text_replaceRepOfPunct['TextAfter'], 'no', 'yes')\n",
        "print(\"{} of {} ({:.4f}%) questions have been changed.\".format(len(text_replaceRepOfPunct[text_replaceRepOfPunct['Changed']=='yes']), len(text_replaceRepOfPunct), 100*len(text_replaceRepOfPunct[text_replaceRepOfPunct['Changed']=='yes'])/len(text_replaceRepOfPunct)))"
      ],
      "metadata": {
        "colab": {
          "base_uri": "https://localhost:8080/"
        },
        "id": "0HZ2OTnNdumK",
        "outputId": "6d1d4506-3529-4ece-d289-0303d4fdf5c7"
      },
      "execution_count": null,
      "outputs": [
        {
          "output_type": "stream",
          "name": "stdout",
          "text": [
            "84 of 130612 (0.0643%) questions have been changed.\n"
          ]
        }
      ]
    },
    {
      "cell_type": "code",
      "source": [
        "for index, row in text_replaceRepOfPunct[text_replaceRepOfPunct['Changed']=='yes'].head().iterrows():\n",
        "    print(row['TextBefore'],'->',row['TextAfter'])"
      ],
      "metadata": {
        "colab": {
          "base_uri": "https://localhost:8080/"
        },
        "id": "QXqCVMRrd45w",
        "outputId": "6d9b4bde-7d90-4107-a409-602af6935738"
      },
      "execution_count": null,
      "outputs": [
        {
          "output_type": "stream",
          "name": "stdout",
          "text": [
            "WHY SO MANY BLACK people THAT MADE VIDEOS THAT THEY are the ISRAELITES ..BUT CAN'T ever SHOW PROOF? ARE THEY ONLY MAKING VIDEOS JUST TO HATE the WHITE people? -> WHY SO MANY BLACK people THAT MADE VIDEOS THAT THEY are the ISRAELITES  multiStop BUT CAN'T ever SHOW PROOF? ARE THEY ONLY MAKING VIDEOS JUST TO HATE the WHITE people?\n",
            "Can I restore data after deleted my account once..i have local backup? -> Can I restore data after deleted my account once multiStop i have local backup?\n",
            "How can I begin this sentence with 'In all..'…\"John has probably forgotten the date of the examination\"? -> How can I begin this sentence with 'In all multiStop '…\"John has probably forgotten the date of the examination\"?\n",
            "Which external hard drive is better Seagate or WD elements and why? Share your experience if u have used them please .. It's urgent I want to buy one -> Which external hard drive is better Seagate or WD elements and why? Share your experience if u have used them please  multiStop  It's urgent I want to buy one\n",
            "What is [math](a+b+c...) ^2[/math]? -> What is [math](a+b+c multiStop ) ^2[/math]?\n"
          ]
        }
      ]
    },
    {
      "cell_type": "code",
      "source": [
        "text_lowercase = pd.DataFrame(columns=['TextBefore', 'TextAfter', 'Changed'])\n",
        "text_lowercase['TextBefore'] = text.copy()"
      ],
      "metadata": {
        "id": "I3mWeSGPd-i4"
      },
      "execution_count": null,
      "outputs": []
    },
    {
      "cell_type": "code",
      "source": [
        "for index, row in text_lowercase.iterrows():\n",
        "    row['TextAfter'] = row['TextBefore'].lower()"
      ],
      "metadata": {
        "id": "jadgfiHbeGLm"
      },
      "execution_count": null,
      "outputs": []
    },
    {
      "cell_type": "code",
      "source": [
        "text_lowercase['Changed'] = np.where(text_lowercase['TextBefore']==text_lowercase['TextAfter'], 'no', 'yes')\n",
        "print(\"{} of {} ({:.4f}%) questions have been changed.\".format(len(text_lowercase[text_lowercase['Changed']=='yes']), len(text_lowercase), 100*len(text_lowercase[text_lowercase['Changed']=='yes'])/len(text_lowercase)))"
      ],
      "metadata": {
        "colab": {
          "base_uri": "https://localhost:8080/"
        },
        "id": "2nyZ65H8eJpw",
        "outputId": "84e77345-9ace-4ae2-92a7-4d39471e27bf"
      },
      "execution_count": null,
      "outputs": [
        {
          "output_type": "stream",
          "name": "stdout",
          "text": [
            "130581 of 130612 (99.9763%) questions have been changed.\n"
          ]
        }
      ]
    },
    {
      "cell_type": "code",
      "source": [
        "for index, row in text_lowercase[text_lowercase['Changed']=='yes'].head().iterrows():\n",
        "    print(row['TextBefore'],'->',row['TextAfter'])\n"
      ],
      "metadata": {
        "colab": {
          "base_uri": "https://localhost:8080/"
        },
        "id": "WROYapcMeNbV",
        "outputId": "29f70679-a979-4298-e183-4808a4354c28"
      },
      "execution_count": null,
      "outputs": [
        {
          "output_type": "stream",
          "name": "stdout",
          "text": [
            "How likely is gay marriage being legalized in the Republic of China this year (2017)? -> how likely is gay marriage being legalized in the republic of china this year (2017)?\n",
            "Is politics the most corrupt profession? -> is politics the most corrupt profession?\n",
            "How do I get a walk up campsite at Yosemite? -> how do i get a walk up campsite at yosemite?\n",
            "How was Banner Health established? -> how was banner health established?\n",
            "Do you feel proud or ashamed telling that you work in insurance industry because people run away from insurance agent? -> do you feel proud or ashamed telling that you work in insurance industry because people run away from insurance agent?\n"
          ]
        }
      ]
    },
    {
      "cell_type": "code",
      "source": [
        "from nltk.stem.porter import PorterStemmer\n",
        "stemmer = PorterStemmer() #set stemmer\n",
        "from nltk.stem import WordNetLemmatizer\n",
        "lemmatizer = WordNetLemmatizer() # set lemmatizer\n",
        "\n",
        "def tokenize(text):\n",
        "    finalTokens = []\n",
        "    tokens = nltk.word_tokenize(text)\n",
        "    for w in tokens:\n",
        "        finalTokens.append(stemmer.stem(w)) # change this to lemmatizer.lemmatize(w) for Lemmatizing\n",
        "    text = \" \".join(finalTokens)\n",
        "    return text\n",
        "\n",
        "text_stemming = pd.DataFrame(columns=['TextBefore', 'TextAfter', 'Changed'])\n",
        "text_stemming['TextBefore'] = text.copy()"
      ],
      "metadata": {
        "id": "3zuKDVvCeQ49"
      },
      "execution_count": null,
      "outputs": []
    },
    {
      "cell_type": "code",
      "source": [
        "import nltk\n",
        "nltk.download('punkt')"
      ],
      "metadata": {
        "colab": {
          "base_uri": "https://localhost:8080/"
        },
        "id": "M05fMVuJkwj-",
        "outputId": "5ce2e491-0934-46ad-ada5-f8b668990198"
      },
      "execution_count": null,
      "outputs": [
        {
          "output_type": "stream",
          "name": "stdout",
          "text": [
            "[nltk_data] Downloading package punkt to /root/nltk_data...\n",
            "[nltk_data]   Package punkt is already up-to-date!\n"
          ]
        },
        {
          "output_type": "execute_result",
          "data": {
            "text/plain": [
              "True"
            ]
          },
          "metadata": {},
          "execution_count": 38
        }
      ]
    },
    {
      "cell_type": "code",
      "source": [
        "for index, row in text_stemming.iterrows():\n",
        "    row['TextAfter'] = tokenize(row['TextBefore'])"
      ],
      "metadata": {
        "id": "w6P40yf3kzWS"
      },
      "execution_count": null,
      "outputs": []
    },
    {
      "cell_type": "code",
      "source": [
        "text_stemming['Changed'] = np.where(text_stemming['TextBefore'].str.replace(\" \",\"\")==text_stemming['TextAfter'].str.replace(\" \",\"\").str.replace(\"``\",'\"').str.replace(\"''\",'\"'), 'no', 'yes')\n",
        "print(\"{} of {} ({:.4f}%) questions have been changed.\".format(len(text_stemming[text_stemming['Changed']=='yes']), len(text_stemming), 100*len(text_stemming[text_stemming['Changed']=='yes'])/len(text_stemming)))"
      ],
      "metadata": {
        "colab": {
          "base_uri": "https://localhost:8080/"
        },
        "id": "QlpVxZ-rk3Fm",
        "outputId": "21d0777d-7e94-406f-d77d-59677878c702"
      },
      "execution_count": null,
      "outputs": [
        {
          "output_type": "stream",
          "name": "stdout",
          "text": [
            "130118 of 130612 (99.6218%) questions have been changed.\n"
          ]
        }
      ]
    },
    {
      "cell_type": "code",
      "source": [
        "for index, row in text_stemming[text_stemming['Changed']=='yes'].head().iterrows():\n",
        "    print(row['TextBefore'],'->',row['TextAfter'])"
      ],
      "metadata": {
        "colab": {
          "base_uri": "https://localhost:8080/"
        },
        "id": "vg2QnC07k6m_",
        "outputId": "23d43e8d-566d-4cf0-e21e-f9111ec5fb5d"
      },
      "execution_count": null,
      "outputs": [
        {
          "output_type": "stream",
          "name": "stdout",
          "text": [
            "How likely is gay marriage being legalized in the Republic of China this year (2017)? -> how like is gay marriag be legal in the republ of china thi year ( 2017 ) ?\n",
            "Is politics the most corrupt profession? -> Is polit the most corrupt profess ?\n",
            "How do I get a walk up campsite at Yosemite? -> how do I get a walk up campsit at yosemit ?\n",
            "How was Banner Health established? -> how wa banner health establish ?\n",
            "Do you feel proud or ashamed telling that you work in insurance industry because people run away from insurance agent? -> Do you feel proud or asham tell that you work in insur industri becaus peopl run away from insur agent ?\n"
          ]
        }
      ]
    },
    {
      "cell_type": "markdown",
      "source": [
        "**Data Preprocessing**"
      ],
      "metadata": {
        "id": "vInlE48flEJg"
      }
    },
    {
      "cell_type": "markdown",
      "source": [
        "\n",
        "In pandas's data frame you can perform some query such as \"where\" to check the number of insincere question asked in the dataset:-"
      ],
      "metadata": {
        "id": "Vjopp7cOlPwj"
      }
    },
    {
      "cell_type": "code",
      "source": [
        "train.where(train ['target']==1).count()"
      ],
      "metadata": {
        "colab": {
          "base_uri": "https://localhost:8080/"
        },
        "id": "BBnP3HA-lNod",
        "outputId": "25a2bb1d-bb4a-4db5-c127-2a82c0bcc6c0"
      },
      "execution_count": null,
      "outputs": [
        {
          "output_type": "execute_result",
          "data": {
            "text/plain": [
              "qid              8207\n",
              "question_text    8207\n",
              "target           8207\n",
              "dtype: int64"
            ]
          },
          "metadata": {},
          "execution_count": 42
        }
      ]
    },
    {
      "cell_type": "markdown",
      "source": [
        "**Observations:-Number of insincere questions asked in the whole training data is**"
      ],
      "metadata": {
        "id": "Lgv11_0W0FD3"
      }
    },
    {
      "cell_type": "markdown",
      "source": [
        "**Below are some examples of questions that they are insincere**"
      ],
      "metadata": {
        "id": "9JyogZzT1ACo"
      }
    },
    {
      "cell_type": "code",
      "source": [
        "train[train['target']==1].head(5)"
      ],
      "metadata": {
        "colab": {
          "base_uri": "https://localhost:8080/",
          "height": 206
        },
        "id": "K_8gALVolVYc",
        "outputId": "59deb0a6-77e0-47fb-b439-7db572c011c8"
      },
      "execution_count": null,
      "outputs": [
        {
          "output_type": "execute_result",
          "data": {
            "text/plain": [
              "                         qid  \\\n",
              "489968  5ff540fc9f29a921e994   \n",
              "795771  9bf13f814d0791416bd7   \n",
              "940763  b860b206b65f3378d241   \n",
              "907933  b1e7a27d8cffaf036e0a   \n",
              "241353  2f34d61296a31a1570bf   \n",
              "\n",
              "                                            question_text  target  \n",
              "489968  Are people that travel to Thailand and Philipp...       1  \n",
              "795771  Why do lawyers take money from the opposite pa...       1  \n",
              "940763  Trump continues to color his hair and skin. Di...       1  \n",
              "907933  Is the Indian Congress the second Nazi? They b...       1  \n",
              "241353   Do the members of Rajya Sabha need a girlfriend?       1  "
            ],
            "text/html": [
              "\n",
              "  <div id=\"df-775bdbd3-9372-4fb6-9468-9e221a031270\">\n",
              "    <div class=\"colab-df-container\">\n",
              "      <div>\n",
              "<style scoped>\n",
              "    .dataframe tbody tr th:only-of-type {\n",
              "        vertical-align: middle;\n",
              "    }\n",
              "\n",
              "    .dataframe tbody tr th {\n",
              "        vertical-align: top;\n",
              "    }\n",
              "\n",
              "    .dataframe thead th {\n",
              "        text-align: right;\n",
              "    }\n",
              "</style>\n",
              "<table border=\"1\" class=\"dataframe\">\n",
              "  <thead>\n",
              "    <tr style=\"text-align: right;\">\n",
              "      <th></th>\n",
              "      <th>qid</th>\n",
              "      <th>question_text</th>\n",
              "      <th>target</th>\n",
              "    </tr>\n",
              "  </thead>\n",
              "  <tbody>\n",
              "    <tr>\n",
              "      <th>489968</th>\n",
              "      <td>5ff540fc9f29a921e994</td>\n",
              "      <td>Are people that travel to Thailand and Philipp...</td>\n",
              "      <td>1</td>\n",
              "    </tr>\n",
              "    <tr>\n",
              "      <th>795771</th>\n",
              "      <td>9bf13f814d0791416bd7</td>\n",
              "      <td>Why do lawyers take money from the opposite pa...</td>\n",
              "      <td>1</td>\n",
              "    </tr>\n",
              "    <tr>\n",
              "      <th>940763</th>\n",
              "      <td>b860b206b65f3378d241</td>\n",
              "      <td>Trump continues to color his hair and skin. Di...</td>\n",
              "      <td>1</td>\n",
              "    </tr>\n",
              "    <tr>\n",
              "      <th>907933</th>\n",
              "      <td>b1e7a27d8cffaf036e0a</td>\n",
              "      <td>Is the Indian Congress the second Nazi? They b...</td>\n",
              "      <td>1</td>\n",
              "    </tr>\n",
              "    <tr>\n",
              "      <th>241353</th>\n",
              "      <td>2f34d61296a31a1570bf</td>\n",
              "      <td>Do the members of Rajya Sabha need a girlfriend?</td>\n",
              "      <td>1</td>\n",
              "    </tr>\n",
              "  </tbody>\n",
              "</table>\n",
              "</div>\n",
              "      <button class=\"colab-df-convert\" onclick=\"convertToInteractive('df-775bdbd3-9372-4fb6-9468-9e221a031270')\"\n",
              "              title=\"Convert this dataframe to an interactive table.\"\n",
              "              style=\"display:none;\">\n",
              "        \n",
              "  <svg xmlns=\"http://www.w3.org/2000/svg\" height=\"24px\"viewBox=\"0 0 24 24\"\n",
              "       width=\"24px\">\n",
              "    <path d=\"M0 0h24v24H0V0z\" fill=\"none\"/>\n",
              "    <path d=\"M18.56 5.44l.94 2.06.94-2.06 2.06-.94-2.06-.94-.94-2.06-.94 2.06-2.06.94zm-11 1L8.5 8.5l.94-2.06 2.06-.94-2.06-.94L8.5 2.5l-.94 2.06-2.06.94zm10 10l.94 2.06.94-2.06 2.06-.94-2.06-.94-.94-2.06-.94 2.06-2.06.94z\"/><path d=\"M17.41 7.96l-1.37-1.37c-.4-.4-.92-.59-1.43-.59-.52 0-1.04.2-1.43.59L10.3 9.45l-7.72 7.72c-.78.78-.78 2.05 0 2.83L4 21.41c.39.39.9.59 1.41.59.51 0 1.02-.2 1.41-.59l7.78-7.78 2.81-2.81c.8-.78.8-2.07 0-2.86zM5.41 20L4 18.59l7.72-7.72 1.47 1.35L5.41 20z\"/>\n",
              "  </svg>\n",
              "      </button>\n",
              "      \n",
              "  <style>\n",
              "    .colab-df-container {\n",
              "      display:flex;\n",
              "      flex-wrap:wrap;\n",
              "      gap: 12px;\n",
              "    }\n",
              "\n",
              "    .colab-df-convert {\n",
              "      background-color: #E8F0FE;\n",
              "      border: none;\n",
              "      border-radius: 50%;\n",
              "      cursor: pointer;\n",
              "      display: none;\n",
              "      fill: #1967D2;\n",
              "      height: 32px;\n",
              "      padding: 0 0 0 0;\n",
              "      width: 32px;\n",
              "    }\n",
              "\n",
              "    .colab-df-convert:hover {\n",
              "      background-color: #E2EBFA;\n",
              "      box-shadow: 0px 1px 2px rgba(60, 64, 67, 0.3), 0px 1px 3px 1px rgba(60, 64, 67, 0.15);\n",
              "      fill: #174EA6;\n",
              "    }\n",
              "\n",
              "    [theme=dark] .colab-df-convert {\n",
              "      background-color: #3B4455;\n",
              "      fill: #D2E3FC;\n",
              "    }\n",
              "\n",
              "    [theme=dark] .colab-df-convert:hover {\n",
              "      background-color: #434B5C;\n",
              "      box-shadow: 0px 1px 3px 1px rgba(0, 0, 0, 0.15);\n",
              "      filter: drop-shadow(0px 1px 2px rgba(0, 0, 0, 0.3));\n",
              "      fill: #FFFFFF;\n",
              "    }\n",
              "  </style>\n",
              "\n",
              "      <script>\n",
              "        const buttonEl =\n",
              "          document.querySelector('#df-775bdbd3-9372-4fb6-9468-9e221a031270 button.colab-df-convert');\n",
              "        buttonEl.style.display =\n",
              "          google.colab.kernel.accessAllowed ? 'block' : 'none';\n",
              "\n",
              "        async function convertToInteractive(key) {\n",
              "          const element = document.querySelector('#df-775bdbd3-9372-4fb6-9468-9e221a031270');\n",
              "          const dataTable =\n",
              "            await google.colab.kernel.invokeFunction('convertToInteractive',\n",
              "                                                     [key], {});\n",
              "          if (!dataTable) return;\n",
              "\n",
              "          const docLinkHtml = 'Like what you see? Visit the ' +\n",
              "            '<a target=\"_blank\" href=https://colab.research.google.com/notebooks/data_table.ipynb>data table notebook</a>'\n",
              "            + ' to learn more about interactive tables.';\n",
              "          element.innerHTML = '';\n",
              "          dataTable['output_type'] = 'display_data';\n",
              "          await google.colab.output.renderOutput(dataTable, element);\n",
              "          const docLink = document.createElement('div');\n",
              "          docLink.innerHTML = docLinkHtml;\n",
              "          element.appendChild(docLink);\n",
              "        }\n",
              "      </script>\n",
              "    </div>\n",
              "  </div>\n",
              "  "
            ]
          },
          "metadata": {},
          "execution_count": 43
        }
      ]
    },
    {
      "cell_type": "markdown",
      "source": [
        "**We will be applying below Feature Engeeinering technique to get more features from the textual data:-**"
      ],
      "metadata": {
        "id": "jWraOadxjaUi"
      }
    },
    {
      "cell_type": "markdown",
      "source": [
        "(https://www.kaggle.com/tunguz/just-some-simple-eda) are:\n",
        "1. Number of words in the text\n",
        "1. Number of unique words in the text\n",
        "1. Number of characters in the text\n",
        "1. Number of stopwords\n",
        "1. Number of punctuations\n",
        "1. Number of upper case words\n",
        "1. Number of title case words\n",
        "1. Average length of the words\n"
      ],
      "metadata": {
        "id": "V6pv7ghrtvMf"
      }
    },
    {
      "cell_type": "markdown",
      "source": [
        "**Word Cloud for the text data:-**"
      ],
      "metadata": {
        "id": "vIALgQgpkDvO"
      }
    },
    {
      "cell_type": "code",
      "source": [
        "from wordcloud import WordCloud, STOPWORDS\n",
        "#https://www.kaggle.com/aashita/word-clouds-of-various-shapes ##\n",
        "def plot_wordcloud(text, mask=None, max_words=200, max_font_size=100, figure_size=(10,6), \n",
        "                   title = None, title_size=40, image_color=False):\n",
        "    stopwords = set(STOPWORDS)\n",
        "    more_stopwords = {'one', 'br', 'Po', 'th', 'sayi', 'fo', 'Unknown'}\n",
        "    stopwords = stopwords.union(more_stopwords)\n",
        "\n",
        "    wordcloud = WordCloud(background_color='black',\n",
        "                    stopwords = stopwords,\n",
        "                    max_words = max_words,\n",
        "                    max_font_size = max_font_size, \n",
        "                    random_state = 42,\n",
        "                    width=800, \n",
        "                    height=400,\n",
        "                    mask = mask)\n",
        "    wordcloud.generate(str(text))\n",
        "    \n",
        "    plt.figure(figsize=figure_size)\n",
        "    if image_color:\n",
        "        image_colors = ImageColorGenerator(mask);\n",
        "        plt.imshow(wordcloud.recolor(color_func=image_colors), interpolation=\"bilinear\");\n",
        "        plt.title(title, fontdict={'size': title_size,  \n",
        "                                  'verticalalignment': 'bottom'})\n",
        "    else:\n",
        "        plt.imshow(wordcloud);\n",
        "        plt.title(title, fontdict={'size': title_size, 'color': 'black', \n",
        "                                  'verticalalignment': 'bottom'})\n",
        "    plt.axis('off');\n",
        "    plt.tight_layout()  \n",
        "    \n",
        "plot_wordcloud(train[\"question_text\"], title=\"Word Cloud of Questions\")"
      ],
      "metadata": {
        "colab": {
          "base_uri": "https://localhost:8080/",
          "height": 426
        },
        "id": "GqIdqGQCtrPw",
        "outputId": "4e8c941f-1730-4312-ef99-4347fbb0b2a9"
      },
      "execution_count": null,
      "outputs": [
        {
          "output_type": "display_data",
          "data": {
            "text/plain": [
              "<Figure size 720x432 with 1 Axes>"
            ],
            "image/png": "[encoded data removed]"
          },
          "metadata": {
            "needs_background": "light"
          }
        }
      ]
    },
    {
      "cell_type": "code",
      "source": [
        "sincere = train[train.target==0].question_text.apply(lambda x: x.lower().split())\n",
        "insincere = train[train.target==1].question_text.apply(lambda x: x.lower().split())"
      ],
      "metadata": {
        "id": "JDhAR7jG01sU"
      },
      "execution_count": null,
      "outputs": []
    },
    {
      "cell_type": "markdown",
      "source": [
        "**Observations:-**\n",
        "We will store the sincere and insincere words in the list."
      ],
      "metadata": {
        "id": "ByBfdnyRkqSC"
      }
    },
    {
      "cell_type": "code",
      "source": [
        "print('Number of sincere words',len(sincere))\n",
        "print('Number of insincere words',len(insincere))"
      ],
      "metadata": {
        "colab": {
          "base_uri": "https://localhost:8080/"
        },
        "id": "9DlP__ZL1CM8",
        "outputId": "5f48442b-e48c-49e6-ad6a-057e25dc644f"
      },
      "execution_count": null,
      "outputs": [
        {
          "output_type": "stream",
          "name": "stdout",
          "text": [
            "Number of sincere words 122405\n",
            "Number of insincere words 8207\n"
          ]
        }
      ]
    },
    {
      "cell_type": "markdown",
      "source": [
        "**Number of words in the text:-**"
      ],
      "metadata": {
        "id": "_Yw-vIyx1NFD"
      }
    },
    {
      "cell_type": "code",
      "source": [
        "#https://www.kaggle.com/tunguz/just-some-simple-eda\n",
        "train[\"num_words\"] = train[\"question_text\"].apply(lambda x: len(str(x).split()))\n",
        "test[\"num_words\"] = test[\"question_text\"].apply(lambda x: len(str(x).split()))\n",
        "\n",
        "\n",
        "#printing the no of words in train\n",
        "print('maximum of num_words in train',train[\"num_words\"].max())\n",
        "print('min of num_words in train',train[\"num_words\"].min())\n",
        "\n",
        "#printing the no of words in test\n",
        "print(\"maximum of  num_words in test\",test[\"num_words\"].max())\n",
        "print('min of num_words in train',test[\"num_words\"].min())\n"
      ],
      "metadata": {
        "colab": {
          "base_uri": "https://localhost:8080/"
        },
        "id": "DW_4KFQ71Gqo",
        "outputId": "0d7a2e1e-15cd-4cc3-ae7c-fc45d8d01143"
      },
      "execution_count": null,
      "outputs": [
        {
          "output_type": "stream",
          "name": "stdout",
          "text": [
            "maximum of num_words in train 62\n",
            "min of num_words in train 1\n",
            "maximum of  num_words in test 87\n",
            "min of num_words in train 1\n"
          ]
        }
      ]
    },
    {
      "cell_type": "markdown",
      "source": [
        "**Number of unique words in the text:-**"
      ],
      "metadata": {
        "id": "SEPybSb01YE8"
      }
    },
    {
      "cell_type": "code",
      "source": [
        "#https://www.kaggle.com/tunguz/just-some-simple-eda\n",
        "train[\"num_unique_words\"] = train[\"question_text\"].apply(lambda x: len(set(str(x).split())))\n",
        "test[\"num_unique_words\"] = test[\"question_text\"].apply(lambda x: len(set(str(x).split())))\n",
        "\n",
        "#printing the no of unique words in train\n",
        "print('maximum of num_unique_words in train',train[\"num_unique_words\"].max())\n",
        "print('mean of num_unique_words in train',train[\"num_unique_words\"].mean())\n",
        "\n",
        "#printing the no of unique words in test\n",
        "print(\"maximum of num_unique_words in test\",test[\"num_unique_words\"].max())\n",
        "print('mean of num_unique_words in train',test[\"num_unique_words\"].mean())"
      ],
      "metadata": {
        "colab": {
          "base_uri": "https://localhost:8080/"
        },
        "id": "lICa-D8Z1Rfm",
        "outputId": "cbea7295-3cfd-4170-a31c-07d429b0fd6d"
      },
      "execution_count": null,
      "outputs": [
        {
          "output_type": "stream",
          "name": "stdout",
          "text": [
            "maximum of num_unique_words in train 52\n",
            "mean of num_unique_words in train 12.149098092058923\n",
            "maximum of num_unique_words in test 61\n",
            "mean of num_unique_words in train 12.144194078859837\n"
          ]
        }
      ]
    },
    {
      "cell_type": "markdown",
      "source": [
        "**Number of stopwords in the text**"
      ],
      "metadata": {
        "id": "eBZbS71l5ffX"
      }
    },
    {
      "cell_type": "code",
      "source": [
        "#https://www.kaggle.com/tunguz/just-some-simple-eda\n",
        "train[\"num_chars\"] = train[\"question_text\"].apply(lambda x: len(str(x)))\n",
        "test[\"num_chars\"] = test[\"question_text\"].apply(lambda x: len(str(x)))\n",
        "\n",
        "#Printing the no of characters in the text\n",
        "print('maximum of num_chars in train',train[\"num_chars\"].max())\n",
        "print(\"maximum of num_chars in test\",test[\"num_chars\"].max())"
      ],
      "metadata": {
        "colab": {
          "base_uri": "https://localhost:8080/"
        },
        "id": "CnFuDr6H1eFc",
        "outputId": "3c558890-e541-4a5e-9564-16e7b0aaf2a6"
      },
      "execution_count": null,
      "outputs": [
        {
          "output_type": "stream",
          "name": "stdout",
          "text": [
            "maximum of num_chars in train 312\n",
            "maximum of num_chars in test 991\n"
          ]
        }
      ]
    },
    {
      "cell_type": "markdown",
      "source": [
        "**Number of punctuations in the text:-**"
      ],
      "metadata": {
        "id": "Vp-AvW2E5lzg"
      }
    },
    {
      "cell_type": "code",
      "source": [
        "#https://www.kaggle.com/tunguz/just-some-simple-eda\n",
        "train[\"num_punctuations\"] =train['question_text'].apply(lambda x: len([c for c in str(x) if c in string.punctuation]) )\n",
        "test[\"num_punctuations\"] =test['question_text'].apply(lambda x: len([c for c in str(x) if c in string.punctuation]) )\n",
        "\n",
        "print('maximum of num_punctuations in train',train[\"num_punctuations\"].max())\n",
        "print(\"maximum of num_punctuations in test\",test[\"num_punctuations\"].max())"
      ],
      "metadata": {
        "colab": {
          "base_uri": "https://localhost:8080/"
        },
        "id": "seGBymx75eF4",
        "outputId": "c96b430b-ec28-41eb-b0d0-d4d6c8a85b88"
      },
      "execution_count": null,
      "outputs": [
        {
          "output_type": "stream",
          "name": "stdout",
          "text": [
            "maximum of num_punctuations in train 96\n",
            "maximum of num_punctuations in test 505\n"
          ]
        }
      ]
    },
    {
      "cell_type": "markdown",
      "source": [
        "**Number of title case words in the text:-**"
      ],
      "metadata": {
        "id": "EFTP926J5xna"
      }
    },
    {
      "cell_type": "code",
      "source": [
        "#https://www.kaggle.com/tunguz/just-some-simple-eda\n",
        "train[\"num_words_upper\"] = train[\"question_text\"].apply(lambda x: len([w for w in str(x).split() if w.isupper()]))\n",
        "test[\"num_words_upper\"] = test[\"question_text\"].apply(lambda x: len([w for w in str(x).split() if w.isupper()]))\n",
        "\n",
        "print('maximum of num_words_upper in train',train[\"num_words_upper\"].max())\n",
        "print(\"maximum of num_words_upper in test\",test[\"num_words_upper\"].max())"
      ],
      "metadata": {
        "colab": {
          "base_uri": "https://localhost:8080/"
        },
        "id": "xmXDquZ05r_r",
        "outputId": "e7403cfd-468e-4b60-dd61-137e84b1f35a"
      },
      "execution_count": null,
      "outputs": [
        {
          "output_type": "stream",
          "name": "stdout",
          "text": [
            "maximum of num_words_upper in train 33\n",
            "maximum of num_words_upper in test 39\n"
          ]
        }
      ]
    },
    {
      "cell_type": "markdown",
      "source": [
        "**Number of title case words in the text:-**"
      ],
      "metadata": {
        "id": "m_3oWQBt5-Ks"
      }
    },
    {
      "cell_type": "code",
      "source": [
        "#https://www.kaggle.com/tunguz/just-some-simple-eda\n",
        "train[\"num_words_title\"] = train[\"question_text\"].apply(lambda x: len([w for w in str(x).split() if w.istitle()]))\n",
        "test[\"num_words_title\"] = test[\"question_text\"].apply(lambda x: len([w for w in str(x).split() if w.istitle()]))\n",
        "\n",
        "print('maximum of num_words_title in train',train[\"num_words_title\"].max())\n",
        "print(\"maximum of num_words_title in test\",test[\"num_words_title\"].max())"
      ],
      "metadata": {
        "colab": {
          "base_uri": "https://localhost:8080/"
        },
        "id": "2vwvSvYQ51-c",
        "outputId": "5a034911-857e-4c70-8d9b-41cf332c0c25"
      },
      "execution_count": null,
      "outputs": [
        {
          "output_type": "stream",
          "name": "stdout",
          "text": [
            "maximum of num_words_title in train 30\n",
            "maximum of num_words_title in test 29\n"
          ]
        }
      ]
    },
    {
      "cell_type": "markdown",
      "source": [
        "**Average length of the words in the text:-**"
      ],
      "metadata": {
        "id": "PFEyNE0Q6F4H"
      }
    },
    {
      "cell_type": "code",
      "source": [
        "#https://www.kaggle.com/tunguz/just-some-simple-eda\n",
        "train[\"mean_word_len\"] = train[\"question_text\"].apply(lambda x: np.mean([len(w) for w in str(x).split()]))\n",
        "test[\"mean_word_len\"] = test[\"question_text\"].apply(lambda x: np.mean([len(w) for w in str(x).split()]))\n",
        "\n",
        "print('mean_word_len in train',train[\"mean_word_len\"].max())\n",
        "print(\"mean_word_len in test\",test[\"mean_word_len\"].max())"
      ],
      "metadata": {
        "colab": {
          "base_uri": "https://localhost:8080/"
        },
        "id": "yXaI9ruv6CLz",
        "outputId": "bdf65db7-9534-4b94-d5f8-836cfa49cc8c"
      },
      "execution_count": null,
      "outputs": [
        {
          "output_type": "stream",
          "name": "stdout",
          "text": [
            "mean_word_len in train 38.333333333333336\n",
            "mean_word_len in test 329.6666666666667\n"
          ]
        }
      ]
    },
    {
      "cell_type": "markdown",
      "source": [
        "**By doing above featurisations we have increased the number of column for the training and testing data:-**"
      ],
      "metadata": {
        "id": "CSa85dfq6Ol5"
      }
    },
    {
      "cell_type": "markdown",
      "source": [
        "**Now check the various columns after doing featurisations in the training data:-**"
      ],
      "metadata": {
        "id": "V6pBxokbI5Le"
      }
    },
    {
      "cell_type": "code",
      "source": [
        "print(train.columns)\n",
        "train.head(5)"
      ],
      "metadata": {
        "colab": {
          "base_uri": "https://localhost:8080/",
          "height": 565
        },
        "id": "Hgcs29F-6KuL",
        "outputId": "83be8ec7-9e96-4c50-de55-1af8c5c40d3e"
      },
      "execution_count": null,
      "outputs": [
        {
          "output_type": "stream",
          "name": "stdout",
          "text": [
            "Index(['qid', 'question_text', 'target', 'num_words', 'num_unique_words',\n",
            "       'num_chars', 'num_punctuations', 'num_words_upper', 'num_words_title',\n",
            "       'mean_word_len'],\n",
            "      dtype='object')\n"
          ]
        },
        {
          "output_type": "execute_result",
          "data": {
            "text/plain": [
              "                         qid  \\\n",
              "414550  513a0aacc17cd3835adc   \n",
              "925862  b56ff3d77ff40c159ddb   \n",
              "829278  a286760dd87e8b5377ab   \n",
              "604431  765dac8abffe574d6657   \n",
              "701714  8965dfac8da4a89ea109   \n",
              "\n",
              "                                            question_text  target  num_words  \\\n",
              "414550  How likely is gay marriage being legalized in ...       0         15   \n",
              "925862           Is politics the most corrupt profession?       0          6   \n",
              "829278       How do I get a walk up campsite at Yosemite?       0         10   \n",
              "604431                 How was Banner Health established?       0          5   \n",
              "701714  Do you feel proud or ashamed telling that you ...       0         20   \n",
              "\n",
              "        num_unique_words  num_chars  num_punctuations  num_words_upper  \\\n",
              "414550                15         85                 3                0   \n",
              "925862                 6         40                 1                0   \n",
              "829278                10         44                 1                1   \n",
              "604431                 5         34                 1                0   \n",
              "701714                18        118                 1                0   \n",
              "\n",
              "        num_words_title  mean_word_len  \n",
              "414550                3       4.733333  \n",
              "925862                1       5.833333  \n",
              "829278                3       3.500000  \n",
              "604431                3       6.000000  \n",
              "701714                1       4.950000  "
            ],
            "text/html": [
              "\n",
              "  <div id=\"df-ecbc1b19-8d71-4d7a-8d0a-cbe1350d6287\">\n",
              "    <div class=\"colab-df-container\">\n",
              "      <div>\n",
              "<style scoped>\n",
              "    .dataframe tbody tr th:only-of-type {\n",
              "        vertical-align: middle;\n",
              "    }\n",
              "\n",
              "    .dataframe tbody tr th {\n",
              "        vertical-align: top;\n",
              "    }\n",
              "\n",
              "    .dataframe thead th {\n",
              "        text-align: right;\n",
              "    }\n",
              "</style>\n",
              "<table border=\"1\" class=\"dataframe\">\n",
              "  <thead>\n",
              "    <tr style=\"text-align: right;\">\n",
              "      <th></th>\n",
              "      <th>qid</th>\n",
              "      <th>question_text</th>\n",
              "      <th>target</th>\n",
              "      <th>num_words</th>\n",
              "      <th>num_unique_words</th>\n",
              "      <th>num_chars</th>\n",
              "      <th>num_punctuations</th>\n",
              "      <th>num_words_upper</th>\n",
              "      <th>num_words_title</th>\n",
              "      <th>mean_word_len</th>\n",
              "    </tr>\n",
              "  </thead>\n",
              "  <tbody>\n",
              "    <tr>\n",
              "      <th>414550</th>\n",
              "      <td>513a0aacc17cd3835adc</td>\n",
              "      <td>How likely is gay marriage being legalized in ...</td>\n",
              "      <td>0</td>\n",
              "      <td>15</td>\n",
              "      <td>15</td>\n",
              "      <td>85</td>\n",
              "      <td>3</td>\n",
              "      <td>0</td>\n",
              "      <td>3</td>\n",
              "      <td>4.733333</td>\n",
              "    </tr>\n",
              "    <tr>\n",
              "      <th>925862</th>\n",
              "      <td>b56ff3d77ff40c159ddb</td>\n",
              "      <td>Is politics the most corrupt profession?</td>\n",
              "      <td>0</td>\n",
              "      <td>6</td>\n",
              "      <td>6</td>\n",
              "      <td>40</td>\n",
              "      <td>1</td>\n",
              "      <td>0</td>\n",
              "      <td>1</td>\n",
              "      <td>5.833333</td>\n",
              "    </tr>\n",
              "    <tr>\n",
              "      <th>829278</th>\n",
              "      <td>a286760dd87e8b5377ab</td>\n",
              "      <td>How do I get a walk up campsite at Yosemite?</td>\n",
              "      <td>0</td>\n",
              "      <td>10</td>\n",
              "      <td>10</td>\n",
              "      <td>44</td>\n",
              "      <td>1</td>\n",
              "      <td>1</td>\n",
              "      <td>3</td>\n",
              "      <td>3.500000</td>\n",
              "    </tr>\n",
              "    <tr>\n",
              "      <th>604431</th>\n",
              "      <td>765dac8abffe574d6657</td>\n",
              "      <td>How was Banner Health established?</td>\n",
              "      <td>0</td>\n",
              "      <td>5</td>\n",
              "      <td>5</td>\n",
              "      <td>34</td>\n",
              "      <td>1</td>\n",
              "      <td>0</td>\n",
              "      <td>3</td>\n",
              "      <td>6.000000</td>\n",
              "    </tr>\n",
              "    <tr>\n",
              "      <th>701714</th>\n",
              "      <td>8965dfac8da4a89ea109</td>\n",
              "      <td>Do you feel proud or ashamed telling that you ...</td>\n",
              "      <td>0</td>\n",
              "      <td>20</td>\n",
              "      <td>18</td>\n",
              "      <td>118</td>\n",
              "      <td>1</td>\n",
              "      <td>0</td>\n",
              "      <td>1</td>\n",
              "      <td>4.950000</td>\n",
              "    </tr>\n",
              "  </tbody>\n",
              "</table>\n",
              "</div>\n",
              "      <button class=\"colab-df-convert\" onclick=\"convertToInteractive('df-ecbc1b19-8d71-4d7a-8d0a-cbe1350d6287')\"\n",
              "              title=\"Convert this dataframe to an interactive table.\"\n",
              "              style=\"display:none;\">\n",
              "        \n",
              "  <svg xmlns=\"http://www.w3.org/2000/svg\" height=\"24px\"viewBox=\"0 0 24 24\"\n",
              "       width=\"24px\">\n",
              "    <path d=\"M0 0h24v24H0V0z\" fill=\"none\"/>\n",
              "    <path d=\"M18.56 5.44l.94 2.06.94-2.06 2.06-.94-2.06-.94-.94-2.06-.94 2.06-2.06.94zm-11 1L8.5 8.5l.94-2.06 2.06-.94-2.06-.94L8.5 2.5l-.94 2.06-2.06.94zm10 10l.94 2.06.94-2.06 2.06-.94-2.06-.94-.94-2.06-.94 2.06-2.06.94z\"/><path d=\"M17.41 7.96l-1.37-1.37c-.4-.4-.92-.59-1.43-.59-.52 0-1.04.2-1.43.59L10.3 9.45l-7.72 7.72c-.78.78-.78 2.05 0 2.83L4 21.41c.39.39.9.59 1.41.59.51 0 1.02-.2 1.41-.59l7.78-7.78 2.81-2.81c.8-.78.8-2.07 0-2.86zM5.41 20L4 18.59l7.72-7.72 1.47 1.35L5.41 20z\"/>\n",
              "  </svg>\n",
              "      </button>\n",
              "      \n",
              "  <style>\n",
              "    .colab-df-container {\n",
              "      display:flex;\n",
              "      flex-wrap:wrap;\n",
              "      gap: 12px;\n",
              "    }\n",
              "\n",
              "    .colab-df-convert {\n",
              "      background-color: #E8F0FE;\n",
              "      border: none;\n",
              "      border-radius: 50%;\n",
              "      cursor: pointer;\n",
              "      display: none;\n",
              "      fill: #1967D2;\n",
              "      height: 32px;\n",
              "      padding: 0 0 0 0;\n",
              "      width: 32px;\n",
              "    }\n",
              "\n",
              "    .colab-df-convert:hover {\n",
              "      background-color: #E2EBFA;\n",
              "      box-shadow: 0px 1px 2px rgba(60, 64, 67, 0.3), 0px 1px 3px 1px rgba(60, 64, 67, 0.15);\n",
              "      fill: #174EA6;\n",
              "    }\n",
              "\n",
              "    [theme=dark] .colab-df-convert {\n",
              "      background-color: #3B4455;\n",
              "      fill: #D2E3FC;\n",
              "    }\n",
              "\n",
              "    [theme=dark] .colab-df-convert:hover {\n",
              "      background-color: #434B5C;\n",
              "      box-shadow: 0px 1px 3px 1px rgba(0, 0, 0, 0.15);\n",
              "      filter: drop-shadow(0px 1px 2px rgba(0, 0, 0, 0.3));\n",
              "      fill: #FFFFFF;\n",
              "    }\n",
              "  </style>\n",
              "\n",
              "      <script>\n",
              "        const buttonEl =\n",
              "          document.querySelector('#df-ecbc1b19-8d71-4d7a-8d0a-cbe1350d6287 button.colab-df-convert');\n",
              "        buttonEl.style.display =\n",
              "          google.colab.kernel.accessAllowed ? 'block' : 'none';\n",
              "\n",
              "        async function convertToInteractive(key) {\n",
              "          const element = document.querySelector('#df-ecbc1b19-8d71-4d7a-8d0a-cbe1350d6287');\n",
              "          const dataTable =\n",
              "            await google.colab.kernel.invokeFunction('convertToInteractive',\n",
              "                                                     [key], {});\n",
              "          if (!dataTable) return;\n",
              "\n",
              "          const docLinkHtml = 'Like what you see? Visit the ' +\n",
              "            '<a target=\"_blank\" href=https://colab.research.google.com/notebooks/data_table.ipynb>data table notebook</a>'\n",
              "            + ' to learn more about interactive tables.';\n",
              "          element.innerHTML = '';\n",
              "          dataTable['output_type'] = 'display_data';\n",
              "          await google.colab.output.renderOutput(dataTable, element);\n",
              "          const docLink = document.createElement('div');\n",
              "          docLink.innerHTML = docLinkHtml;\n",
              "          element.appendChild(docLink);\n",
              "        }\n",
              "      </script>\n",
              "    </div>\n",
              "  </div>\n",
              "  "
            ]
          },
          "metadata": {},
          "execution_count": 54
        }
      ]
    },
    {
      "cell_type": "markdown",
      "source": [
        "**Data Visualization**"
      ],
      "metadata": {
        "id": "3v2vzU1EoPHm"
      }
    },
    {
      "cell_type": "code",
      "source": [
        "#https://www.geeksforgeeks.org/countplot-using-seaborn-in-python/#:~:text=a%20third%20variable.-,Syntax%3A,%2C%20y%2C%20hue%2C%20data)%3B\n",
        "ax=sns.countplot(x='target',hue=\"target\", data=train,edgecolor=sns.color_palette(\"dark\", 3))\n",
        "plt.title('Is data set imbalance?');"
      ],
      "metadata": {
        "colab": {
          "base_uri": "https://localhost:8080/",
          "height": 295
        },
        "id": "UT7yofRBoTWK",
        "outputId": "82d0892b-5abc-4061-e641-0a06431ba604"
      },
      "execution_count": null,
      "outputs": [
        {
          "output_type": "display_data",
          "data": {
            "text/plain": [
              "<Figure size 432x288 with 1 Axes>"
            ],
            "image/png": "[encoded data removed]"
          },
          "metadata": {
            "needs_background": "light"
          }
        }
      ]
    },
    {
      "cell_type": "markdown",
      "source": [
        "**Observation:-We can see that it is an imbalanced dataset**"
      ],
      "metadata": {
        "id": "nazHF-5PoabZ"
      }
    },
    {
      "cell_type": "markdown",
      "source": [
        "**Pie Plot:-Checking the distribuition of the target variable:-**"
      ],
      "metadata": {
        "id": "N-_tTavZog7N"
      }
    },
    {
      "cell_type": "code",
      "source": [
        "#https://www.geeksforgeeks.org/plot-a-pie-chart-in-python-using-matplotlib/\n",
        "ax=train['target'].value_counts().plot.pie(explode=[0,0.1],shadow=True)\n",
        "ax.set_title('target')\n",
        "ax.set_ylabel('')\n",
        "plt.show()"
      ],
      "metadata": {
        "colab": {
          "base_uri": "https://localhost:8080/",
          "height": 264
        },
        "id": "uu-skbWroU-F",
        "outputId": "1c737706-0d47-4a2b-e1e7-4c956d180705"
      },
      "execution_count": null,
      "outputs": [
        {
          "output_type": "display_data",
          "data": {
            "text/plain": [
              "<Figure size 432x288 with 1 Axes>"
            ],
            "image/png": "[encoded data removed]"
          },
          "metadata": {}
        }
      ]
    },
    {
      "cell_type": "markdown",
      "source": [
        "**Observations:-The insincere questions are less compare to sincere questions**"
      ],
      "metadata": {
        "id": "kRgaVWuhor2D"
      }
    },
    {
      "cell_type": "markdown",
      "source": [
        "**Histogram**"
      ],
      "metadata": {
        "id": "lYP74QNRoyKt"
      }
    },
    {
      "cell_type": "code",
      "source": [
        "#https://www.geeksforgeeks.org/plotting-histogram-in-python-using-matplotlib/\n",
        "f,ax=plt.subplots(1,2,figsize=(10,6))\n",
        "\n",
        "train[train['target']==0].num_words.plot.hist(ax=ax[0],bins=20,edgecolor='white',color='red')\n",
        "\n",
        "ax[0].set_title('target= 0')\n",
        "x1=list(range(0,85,5))\n",
        "\n",
        "ax[0].set_xticks(x1)\n",
        "train[train['target']==1].num_words.plot.hist(ax=ax[1],color='blue',bins=20,edgecolor='white')\n",
        "\n",
        "ax[1].set_title('target= 1')\n",
        "x2=list(range(0,85,5))\n",
        "\n",
        "ax[1].set_xticks(x2)\n",
        "plt.show()"
      ],
      "metadata": {
        "colab": {
          "base_uri": "https://localhost:8080/",
          "height": 390
        },
        "id": "rkUYwaPEopwI",
        "outputId": "bc11f6ba-38bb-457b-eeed-ae2fd706bb1a"
      },
      "execution_count": null,
      "outputs": [
        {
          "output_type": "display_data",
          "data": {
            "text/plain": [
              "<Figure size 720x432 with 2 Axes>"
            ],
            "image/png": "[encoded data removed]"
          },
          "metadata": {
            "needs_background": "light"
          }
        }
      ]
    },
    {
      "cell_type": "code",
      "source": [
        "#https://www.geeksforgeeks.org/plotting-histogram-in-python-using-matplotlib/\n",
        "f,ax=plt.subplots(1,2,figsize=(10,6))\n",
        "\n",
        "train[['target','num_words']].groupby(['target']).mean().plot.bar(ax=ax[0],color='orange')\n",
        "\n",
        "ax[0].set_title('num_words vs target')\n",
        "sns.countplot('num_words',hue='target',data=train,ax=ax[1],color='black',edgecolor='blue')\n",
        "\n",
        "ax[1].set_title('num_words:target=0 vs target=1')\n",
        "plt.show()"
      ],
      "metadata": {
        "colab": {
          "base_uri": "https://localhost:8080/",
          "height": 460
        },
        "id": "1rAbXmLOo2vx",
        "outputId": "7df7881b-9482-4faf-9e64-cb8e50e96a26"
      },
      "execution_count": null,
      "outputs": [
        {
          "output_type": "stream",
          "name": "stderr",
          "text": [
            "/usr/local/lib/python3.7/dist-packages/seaborn/_decorators.py:43: FutureWarning: Pass the following variable as a keyword arg: x. From version 0.12, the only valid positional argument will be `data`, and passing other arguments without an explicit keyword will result in an error or misinterpretation.\n",
            "  FutureWarning\n"
          ]
        },
        {
          "output_type": "display_data",
          "data": {
            "text/plain": [
              "<Figure size 720x432 with 2 Axes>"
            ],
            "image/png": "[encoded data removed]"
          },
          "metadata": {
            "needs_background": "light"
          }
        }
      ]
    },
    {
      "cell_type": "code",
      "source": [
        "#https://www.geeksforgeeks.org/plotting-histogram-in-python-using-matplotlib/\n",
        "train.hist(figsize=(20,20),color='skyblue',edgecolor='black')\n",
        "plt.figure()"
      ],
      "metadata": {
        "colab": {
          "base_uri": "https://localhost:8080/",
          "height": 1000
        },
        "id": "oWJCIemNo8Ez",
        "outputId": "964c8978-6046-4b62-d82e-541cab316047"
      },
      "execution_count": null,
      "outputs": [
        {
          "output_type": "execute_result",
          "data": {
            "text/plain": [
              "<Figure size 432x288 with 0 Axes>"
            ]
          },
          "metadata": {},
          "execution_count": 59
        },
        {
          "output_type": "display_data",
          "data": {
            "text/plain": [
              "<Figure size 1440x1440 with 9 Axes>"
            ],
            "image/png": "[encoded data removed]"
          },
          "metadata": {
            "needs_background": "light"
          }
        },
        {
          "output_type": "display_data",
          "data": {
            "text/plain": [
              "<Figure size 432x288 with 0 Axes>"
            ]
          },
          "metadata": {}
        }
      ]
    },
    {
      "cell_type": "markdown",
      "source": [
        "**Violin Plot**"
      ],
      "metadata": {
        "id": "uTCpPAxgpAZf"
      }
    },
    {
      "cell_type": "code",
      "source": [
        "#https://stackabuse.com/seaborn-violin-plot-tutorial-and-examples/\n",
        "sns.violinplot(data=train,x=\"target\", y=\"num_words\")\n",
        "sns.violinplot(data=train,x=\"target\", y=\"num_words_upper\")\n",
        "sns.violinplot(data=train,x=\"target\", y=\"num_words_title\")"
      ],
      "metadata": {
        "colab": {
          "base_uri": "https://localhost:8080/",
          "height": 296
        },
        "id": "zv8q-4hJo9Pb",
        "outputId": "95855927-19bb-4eb8-92e8-7b80ebe74391"
      },
      "execution_count": null,
      "outputs": [
        {
          "output_type": "execute_result",
          "data": {
            "text/plain": [
              "<matplotlib.axes._subplots.AxesSubplot at 0x7fee75376a10>"
            ]
          },
          "metadata": {},
          "execution_count": 60
        },
        {
          "output_type": "display_data",
          "data": {
            "text/plain": [
              "<Figure size 432x288 with 1 Axes>"
            ],
            "image/png": "[encoded data removed]"
          },
          "metadata": {
            "needs_background": "light"
          }
        }
      ]
    },
    {
      "cell_type": "markdown",
      "source": [
        "**KdePlot**"
      ],
      "metadata": {
        "id": "6xvIhHY6pQ0r"
      }
    },
    {
      "cell_type": "code",
      "source": [
        "#https://www.geeksforgeeks.org/kde-plot-visualization-with-pandas-and-seaborn/\n",
        "sns.FacetGrid(train, hue=\"target\", size=5).map(sns.kdeplot, \"num_words\").add_legend()\n",
        "plt.show()"
      ],
      "metadata": {
        "colab": {
          "base_uri": "https://localhost:8080/",
          "height": 424
        },
        "id": "7Llxb0vepNHt",
        "outputId": "9c9fd63e-fbf2-48bc-9422-2018187a1035"
      },
      "execution_count": null,
      "outputs": [
        {
          "output_type": "stream",
          "name": "stderr",
          "text": [
            "/usr/local/lib/python3.7/dist-packages/seaborn/axisgrid.py:337: UserWarning: The `size` parameter has been renamed to `height`; please update your code.\n",
            "  warnings.warn(msg, UserWarning)\n"
          ]
        },
        {
          "output_type": "display_data",
          "data": {
            "text/plain": [
              "<Figure size 402.375x360 with 1 Axes>"
            ],
            "image/png": "[encoded data removed]"
          },
          "metadata": {
            "needs_background": "light"
          }
        }
      ]
    },
    {
      "cell_type": "markdown",
      "source": [
        "**BoxPlots**"
      ],
      "metadata": {
        "id": "9x99j4Y0qLAc"
      }
    },
    {
      "cell_type": "code",
      "source": [
        "#https://www.geeksforgeeks.org/box-plot-in-python-using-matplotlib/\n",
        "train['num_words'].loc[train['num_words']>60] = 60 #truncation for better visuals\n",
        "\n",
        "axes= sns.boxplot(x='target', y='num_words', data=train)\n",
        "\n",
        "axes.set_xlabel('Target', fontsize=12)\n",
        "\n",
        "axes.set_title(\"Number of words in each class\", fontsize=15)\n",
        "plt.show()"
      ],
      "metadata": {
        "colab": {
          "base_uri": "https://localhost:8080/",
          "height": 387
        },
        "id": "19kL06gnqJGP",
        "outputId": "1aa92a26-2e92-41fc-d40b-ba3dd7b09bc2"
      },
      "execution_count": null,
      "outputs": [
        {
          "output_type": "stream",
          "name": "stderr",
          "text": [
            "/usr/local/lib/python3.7/dist-packages/pandas/core/indexing.py:1732: SettingWithCopyWarning: \n",
            "A value is trying to be set on a copy of a slice from a DataFrame\n",
            "\n",
            "See the caveats in the documentation: https://pandas.pydata.org/pandas-docs/stable/user_guide/indexing.html#returning-a-view-versus-a-copy\n",
            "  self._setitem_single_block(indexer, value, name)\n"
          ]
        },
        {
          "output_type": "display_data",
          "data": {
            "text/plain": [
              "<Figure size 432x288 with 1 Axes>"
            ],
            "image/png": "[encoded data removed]"
          },
          "metadata": {
            "needs_background": "light"
          }
        }
      ]
    },
    {
      "cell_type": "code",
      "source": [
        "#https://www.geeksforgeeks.org/box-plot-in-python-using-matplotlib/\n",
        "train['num_chars'].loc[train['num_chars']>350] = 350 #truncation for better visuals\n",
        "\n",
        "axes= sns.boxplot(x='target', y='num_chars', data=train)\n",
        "axes.set_xlabel('Target', fontsize=12)\n",
        "axes.set_title(\"Number of num_chars in each class\", fontsize=15)\n",
        "plt.show()"
      ],
      "metadata": {
        "colab": {
          "base_uri": "https://localhost:8080/",
          "height": 387
        },
        "id": "KAGihioaqSlS",
        "outputId": "18f9e032-6e63-4f71-dbdc-370413e5c2aa"
      },
      "execution_count": null,
      "outputs": [
        {
          "output_type": "stream",
          "name": "stderr",
          "text": [
            "/usr/local/lib/python3.7/dist-packages/pandas/core/indexing.py:1732: SettingWithCopyWarning: \n",
            "A value is trying to be set on a copy of a slice from a DataFrame\n",
            "\n",
            "See the caveats in the documentation: https://pandas.pydata.org/pandas-docs/stable/user_guide/indexing.html#returning-a-view-versus-a-copy\n",
            "  self._setitem_single_block(indexer, value, name)\n"
          ]
        },
        {
          "output_type": "display_data",
          "data": {
            "text/plain": [
              "<Figure size 432x288 with 1 Axes>"
            ],
            "image/png": "[encoded data removed]"
          },
          "metadata": {
            "needs_background": "light"
          }
        }
      ]
    },
    {
      "cell_type": "markdown",
      "source": [
        "We can see that the insincere questions have more number of words as well as characters compared to sincere questions. So this might be a useful feature in our model."
      ],
      "metadata": {
        "id": "RlvmFyPYqXTm"
      }
    },
    {
      "cell_type": "markdown",
      "source": [
        "**uni-gram**"
      ],
      "metadata": {
        "id": "6ilmKXCrqlSC"
      }
    },
    {
      "cell_type": "code",
      "source": [
        "X = train.drop(['qid', 'target'], axis=1)\n",
        "y = train['target']\n",
        "X.shape, y.shape"
      ],
      "metadata": {
        "colab": {
          "base_uri": "https://localhost:8080/"
        },
        "id": "Wf2GkGr8qYJO",
        "outputId": "6be84e4d-1d0c-4082-8bd9-77ae41e65596"
      },
      "execution_count": null,
      "outputs": [
        {
          "output_type": "execute_result",
          "data": {
            "text/plain": [
              "((130612, 8), (130612,))"
            ]
          },
          "metadata": {},
          "execution_count": 64
        }
      ]
    },
    {
      "cell_type": "markdown",
      "source": [
        " https://www.kaggle.com/alaric81li215/eda-ml-for-beginners-by-a-beginner-bonus-on-qid"
      ],
      "metadata": {
        "id": "11iRNT5Lq9DP"
      }
    },
    {
      "cell_type": "code",
      "source": [
        "from sklearn.feature_extraction.text import CountVectorizer, TfidfVectorizer\n",
        "from sklearn.decomposition import TruncatedSVD\n",
        "from sklearn.pipeline import Pipeline"
      ],
      "metadata": {
        "id": "VxPGaT50q-Cq"
      },
      "execution_count": null,
      "outputs": []
    },
    {
      "cell_type": "code",
      "source": [
        "vectorizer = CountVectorizer(stop_words='english')\n",
        "svd = TruncatedSVD(n_components=1, random_state=42)"
      ],
      "metadata": {
        "id": "kyOZDhc-rD0t"
      },
      "execution_count": null,
      "outputs": []
    },
    {
      "cell_type": "code",
      "source": [
        "preprocessing_pipe = Pipeline([('vectorizer', vectorizer), ('svd', svd)])"
      ],
      "metadata": {
        "id": "ZlU6qtoMrHbu"
      },
      "execution_count": null,
      "outputs": []
    },
    {
      "cell_type": "code",
      "source": [
        "lsa_insincere = preprocessing_pipe.fit_transform(X[y==1]['question_text'])\n",
        "topics_insincere = pd.DataFrame(svd.components_)\n",
        "\n",
        "topics_insincere.columns = preprocessing_pipe.named_steps['vectorizer'].get_feature_names()\n",
        "\n",
        "lsa_sincere = preprocessing_pipe.fit_transform(X[y==0]['question_text'])\n",
        "topics_sincere = pd.DataFrame(svd.components_)\n",
        "\n",
        "topics_sincere.columns = preprocessing_pipe.named_steps['vectorizer'].get_feature_names()\n",
        "\n",
        "topics_insincere.shape, topics_sincere.shape"
      ],
      "metadata": {
        "colab": {
          "base_uri": "https://localhost:8080/"
        },
        "id": "tycsVAnqrIOc",
        "outputId": "491d80e6-f8bf-414f-c81a-d974739b02ba"
      },
      "execution_count": null,
      "outputs": [
        {
          "output_type": "stream",
          "name": "stderr",
          "text": [
            "/usr/local/lib/python3.7/dist-packages/sklearn/utils/deprecation.py:87: FutureWarning: Function get_feature_names is deprecated; get_feature_names is deprecated in 1.0 and will be removed in 1.2. Please use get_feature_names_out instead.\n",
            "  warnings.warn(msg, category=FutureWarning)\n"
          ]
        },
        {
          "output_type": "execute_result",
          "data": {
            "text/plain": [
              "((1, 12482), (1, 56356))"
            ]
          },
          "metadata": {},
          "execution_count": 68
        }
      ]
    },
    {
      "cell_type": "code",
      "source": [
        "# https://www.kaggle.com/alaric81li215/eda-ml-for-beginners-by-a-beginner-bonus-on-qid\n",
        "fig, axes = plt.subplots(1, 2, figsize=(22,10));\n",
        "\n",
        "topics_sincere.iloc[0].sort_values(ascending=False)[:30].sort_values().plot.barh(ax=axes[0]);\n",
        "topics_insincere.iloc[0].sort_values(ascending=False)[:30].sort_values().plot.barh(ax=axes[1]);"
      ],
      "metadata": {
        "colab": {
          "base_uri": "https://localhost:8080/",
          "height": 516
        },
        "id": "1aXJrmEqrRc2",
        "outputId": "65ff4934-e39b-4781-e269-27bccd36973d"
      },
      "execution_count": null,
      "outputs": [
        {
          "output_type": "display_data",
          "data": {
            "text/plain": [
              "<Figure size 1584x720 with 2 Axes>"
            ],
            "image/png": "[encoded data removed]"
          },
          "metadata": {
            "needs_background": "light"
          }
        }
      ]
    },
    {
      "cell_type": "markdown",
      "source": [
        "**Observations:-Some words are more common in insincere questions, like 'white' and 'black', but other words of importance in our LSA are shared by both sincere and insincere questions at the same level, like 'people'. Maybe working on bi-grams or tri-grams will help us define more precislely what an insincere question looks like.**"
      ],
      "metadata": {
        "id": "oPyv__XurXMS"
      }
    },
    {
      "cell_type": "code",
      "source": [
        "# https://www.kaggle.com/alaric81li215/eda-ml-for-beginners-by-a-beginner-bonus-on-qid\n",
        "vectorizer = CountVectorizer(stop_words='english')\n",
        "svd = TruncatedSVD(n_components=2, random_state=42)\n",
        "\n",
        "preprocessing_pipe = Pipeline([('vectorizer', vectorizer), ('svd', svd)])\n",
        "\n",
        "# Building the latent semantic analysis dataframe for sincere and insincere questions\n",
        "\n",
        "lsa_insincere_2 = preprocessing_pipe.fit_transform(X[y==1]['question_text'])\n",
        "topics_insincere_2 = pd.DataFrame(svd.components_)\n",
        "topics_insincere_2.columns = preprocessing_pipe.named_steps['vectorizer'].get_feature_names()\n",
        "\n",
        "lsa_sincere_2 = preprocessing_pipe.fit_transform(X[y==0]['question_text'])\n",
        "topics_sincere_2 = pd.DataFrame(svd.components_)\n",
        "topics_sincere_2.columns = preprocessing_pipe.named_steps['vectorizer'].get_feature_names()\n",
        "\n",
        "\n",
        "fig_1, axes_1 = plt.subplots(1, 2, figsize=(18, 8))\n",
        "for i, ax in enumerate(axes_1.flat):\n",
        "    topics_insincere_2.iloc[i].sort_values(ascending=False)[:30].sort_values().plot.barh(ax=ax)\n",
        "    \n",
        "fig_2, axes_2 = plt.subplots(1, 2, figsize=(18, 8))\n",
        "for i, ax in enumerate(axes_2.flat):\n",
        "    topics_sincere_2.iloc[i].sort_values(ascending=False)[:30].sort_values().plot.barh(ax=ax)"
      ],
      "metadata": {
        "colab": {
          "base_uri": "https://localhost:8080/",
          "height": 1000
        },
        "id": "UQLvLgZwrVZn",
        "outputId": "036db0d7-2b60-4130-8e2f-7bd476f73009"
      },
      "execution_count": null,
      "outputs": [
        {
          "output_type": "stream",
          "name": "stderr",
          "text": [
            "/usr/local/lib/python3.7/dist-packages/sklearn/utils/deprecation.py:87: FutureWarning: Function get_feature_names is deprecated; get_feature_names is deprecated in 1.0 and will be removed in 1.2. Please use get_feature_names_out instead.\n",
            "  warnings.warn(msg, category=FutureWarning)\n"
          ]
        },
        {
          "output_type": "display_data",
          "data": {
            "text/plain": [
              "<Figure size 1296x576 with 2 Axes>"
            ],
            "image/png": "[encoded data removed]"
          },
          "metadata": {
            "needs_background": "light"
          }
        },
        {
          "output_type": "display_data",
          "data": {
            "text/plain": [
              "<Figure size 1296x576 with 2 Axes>"
            ],
            "image/png": "[encoded data removed]"
          },
          "metadata": {
            "needs_background": "light"
          }
        }
      ]
    },
    {
      "cell_type": "markdown",
      "source": [
        "**bi-gram**"
      ],
      "metadata": {
        "id": "uKYaohNHrh9j"
      }
    },
    {
      "cell_type": "code",
      "source": [
        "# https://www.kaggle.com/alaric81li215/eda-ml-for-beginners-by-a-beginner-bonus-on-qid\n",
        "vectorizer_22 = CountVectorizer(stop_words='english', ngram_range=(2, 2))\n",
        "svd_10c = TruncatedSVD(n_components=9, random_state=42)\n",
        "\n",
        "preprocessing_pipe = Pipeline([('vectorizer_22', vectorizer_22), ('svd_10c', svd_10c)])\n",
        "\n",
        "# Building the latent semantic analysis dataframe for insincere questions\n",
        "\n",
        "lsa_insincere_10c = preprocessing_pipe.fit_transform(X[y==1]['question_text'])\n",
        "topics_insincere_10c = pd.DataFrame(svd_10c.components_)\n",
        "topics_insincere_10c.columns = preprocessing_pipe.named_steps['vectorizer_22'].get_feature_names()"
      ],
      "metadata": {
        "colab": {
          "base_uri": "https://localhost:8080/"
        },
        "id": "3wAcBrNprhY_",
        "outputId": "320d35c3-3987-4468-ae30-185d7a53dbf1"
      },
      "execution_count": null,
      "outputs": [
        {
          "output_type": "stream",
          "name": "stderr",
          "text": [
            "/usr/local/lib/python3.7/dist-packages/sklearn/utils/deprecation.py:87: FutureWarning: Function get_feature_names is deprecated; get_feature_names is deprecated in 1.0 and will be removed in 1.2. Please use get_feature_names_out instead.\n",
            "  warnings.warn(msg, category=FutureWarning)\n"
          ]
        }
      ]
    },
    {
      "cell_type": "code",
      "source": [
        "# https://www.kaggle.com/alaric81li215/eda-ml-for-beginners-by-a-beginner-bonus-on-qid\n",
        "fig, axes = plt.subplots(3, 3, figsize=(20, 12))\n",
        "for i, ax in enumerate(axes.flat):\n",
        "    topics_insincere_10c.iloc[i].sort_values(ascending=False)[:10].sort_values().plot.barh(ax=ax)"
      ],
      "metadata": {
        "colab": {
          "base_uri": "https://localhost:8080/",
          "height": 628
        },
        "id": "WAvzQ-sAreBv",
        "outputId": "776d1f3d-9cf2-42b5-f9aa-2e9e587ba913"
      },
      "execution_count": null,
      "outputs": [
        {
          "output_type": "display_data",
          "data": {
            "text/plain": [
              "<Figure size 1440x864 with 9 Axes>"
            ],
            "image/png": "[encoded data removed]"
          },
          "metadata": {
            "needs_background": "light"
          }
        }
      ]
    },
    {
      "cell_type": "markdown",
      "source": [
        "**Observations:-Some words are more common in insincere questions, like 'white,black','Donald trump','hilary clinton','people hate'  Maybe working tri-grams will help us define more precislely what an insincere question looks like.**"
      ],
      "metadata": {
        "id": "MZSouF7DCJsR"
      }
    },
    {
      "cell_type": "markdown",
      "source": [
        "**tri-gram**"
      ],
      "metadata": {
        "id": "rhblYEjrsi2P"
      }
    },
    {
      "cell_type": "code",
      "source": [
        "# https://www.kaggle.com/alaric81li215/eda-ml-for-beginners-by-a-beginner-bonus-on-qid\n",
        "vectorizer_23 = TfidfVectorizer(stop_words='english', ngram_range=(2, 3))\n",
        "svd_9c = TruncatedSVD(n_components=9, random_state=42)\n",
        "\n",
        "preprocessing_pipe = Pipeline([('vectorizer_23', vectorizer_23), ('svd_9c', svd_9c)])\n",
        "\n",
        "# Building the latent semantic analysis dataframe for insincere questions\n",
        "\n",
        "lsa_insincere_9c = preprocessing_pipe.fit_transform(X[y==1]['question_text'])\n",
        "topics_insincere_9c = pd.DataFrame(svd_9c.components_)\n",
        "topics_insincere_9c.columns = preprocessing_pipe.named_steps['vectorizer_23'].get_feature_names()\n",
        "\n",
        "fig, axes = plt.subplots(3, 3, figsize=(20, 12))\n",
        "for i, ax in enumerate(axes.flat):\n",
        "    topics_insincere_9c.iloc[i].sort_values(ascending=False)[:10].sort_values().plot.barh(ax=ax)"
      ],
      "metadata": {
        "colab": {
          "base_uri": "https://localhost:8080/",
          "height": 674
        },
        "id": "ny28CfOHsj_g",
        "outputId": "31a7d503-bd31-4162-e1c5-ce478969696b"
      },
      "execution_count": null,
      "outputs": [
        {
          "output_type": "stream",
          "name": "stderr",
          "text": [
            "/usr/local/lib/python3.7/dist-packages/sklearn/utils/deprecation.py:87: FutureWarning: Function get_feature_names is deprecated; get_feature_names is deprecated in 1.0 and will be removed in 1.2. Please use get_feature_names_out instead.\n",
            "  warnings.warn(msg, category=FutureWarning)\n"
          ]
        },
        {
          "output_type": "display_data",
          "data": {
            "text/plain": [
              "<Figure size 1440x864 with 9 Axes>"
            ],
            "image/png": "[encoded data removed]"
          },
          "metadata": {
            "needs_background": "light"
          }
        }
      ]
    },
    {
      "cell_type": "markdown",
      "source": [
        "**Observations:-Some words are more common in insincere questions, like 'black people hate','white people hate','want sex sister','people hate'** "
      ],
      "metadata": {
        "id": "yjSgetgACyBH"
      }
    },
    {
      "cell_type": "markdown",
      "source": [
        "**Baseline Model:**\n",
        "**Logistic Regression**"
      ],
      "metadata": {
        "id": "Hr1umJXpzzI4"
      }
    },
    {
      "cell_type": "code",
      "source": [
        "X = train['question_text']\n",
        "y = train['target']\n",
        "X_test = test['question_text']\n",
        "\n",
        "X_train, X_val, y_train, y_val = train_test_split(X, y, test_size=.2, random_state=42, stratify=y)\n",
        "X_train.shape, y_train.shape, X_val.shape, y_val.shape"
      ],
      "metadata": {
        "id": "zZ0JDpBUzyDf",
        "colab": {
          "base_uri": "https://localhost:8080/"
        },
        "outputId": "d47e2779-0f3d-4cc3-f43a-82649b43c627"
      },
      "execution_count": null,
      "outputs": [
        {
          "output_type": "execute_result",
          "data": {
            "text/plain": [
              "((104489,), (104489,), (26123,), (26123,))"
            ]
          },
          "metadata": {},
          "execution_count": 80
        }
      ]
    },
    {
      "cell_type": "code",
      "source": [
        "from sklearn.feature_extraction.text import CountVectorizer\n",
        "from sklearn.feature_extraction.text import TfidfVectorizer\n",
        "from sklearn.decomposition import TruncatedSVD\n",
        "from sklearn.pipeline import Pipeline\n",
        "from sklearn import model_selection, preprocessing, metrics, ensemble, naive_bayes, linear_model\n",
        "from sklearn.feature_extraction.text import TfidfVectorizer, CountVectorizer\n",
        "from sklearn.decomposition import TruncatedSVD\n",
        "\n",
        "from sklearn.model_selection import train_test_split\n",
        "from sklearn import metrics"
      ],
      "metadata": {
        "id": "X3YuujRG4_ff"
      },
      "execution_count": null,
      "outputs": []
    },
    {
      "cell_type": "code",
      "source": [
        "#import pickle\n",
        "# create an iterator object with write permission - model.pkl\n",
        "#with open('/content/drive/MyDrive/model_pkl', 'wb') as files:\n",
        "#    pickle.dump(lr, files)\n",
        "#with open('/content/drive/MyDrive/model_pkl' , 'rb') as f:\n",
        "#    lr = pickle.load(f)"
      ],
      "metadata": {
        "id": "YJNPLz4eUz60"
      },
      "execution_count": null,
      "outputs": []
    },
    {
      "cell_type": "code",
      "source": [
        "from sklearn.linear_model import LogisticRegression"
      ],
      "metadata": {
        "id": "shKHY-aOBsy8"
      },
      "execution_count": null,
      "outputs": []
    },
    {
      "cell_type": "code",
      "source": [
        "lr = LogisticRegression()\n",
        "\n",
        "tfvec = TfidfVectorizer(stop_words='english', lowercase=False)\n",
        "pipe_lr = Pipeline([\n",
        "    ('vectorizer', tfvec),\n",
        "    ('lr', lr )\n",
        "])"
      ],
      "metadata": {
        "id": "BlfgDgpR0NmR"
      },
      "execution_count": null,
      "outputs": []
    },
    {
      "cell_type": "code",
      "source": [
        "test_datapoint_func_1 = X_test.sample(1)"
      ],
      "metadata": {
        "id": "graG0h-Ad1Yc"
      },
      "execution_count": null,
      "outputs": []
    },
    {
      "cell_type": "code",
      "source": [
        "test_datapoint_func_1"
      ],
      "metadata": {
        "id": "V38HX-NzCeEo"
      },
      "execution_count": null,
      "outputs": []
    },
    {
      "cell_type": "code",
      "source": [
        "pipe_lr.fit(X_train, y_train)"
      ],
      "metadata": {
        "id": "7Rr0pDsS0bny"
      },
      "execution_count": null,
      "outputs": []
    },
    {
      "cell_type": "code",
      "source": [
        "y_pred_lr = pipe_lr.predict(X_val)"
      ],
      "metadata": {
        "id": "9zcfowZR0k4D"
      },
      "execution_count": null,
      "outputs": []
    },
    {
      "cell_type": "code",
      "source": [
        "import pickle\n",
        "# create an iterator object with write permission - model.pkl\n",
        "with open('/content/drive/MyDrive/model_pkl', 'wb') as files:\n",
        "    pickle.dump(lr, files)\n",
        "with open('/content/drive/MyDrive/vector_pkl', 'wb') as files:\n",
        "    pickle.dump(pipe_lr, files)\n",
        "#with open('/content/drive/MyDrive/model_pkl' , 'rb') as f:\n",
        "#    lr = pickle.load(f)"
      ],
      "metadata": {
        "id": "s4N13SscJTLa"
      },
      "execution_count": null,
      "outputs": []
    },
    {
      "cell_type": "code",
      "source": [
        "cm_lr = metrics.confusion_matrix(y_val, y_pred_lr)\n",
        "\n",
        "ax = plt.gca()\n",
        "sns.heatmap(cm_lr, cmap='Blues', cbar=False, annot=True, xticklabels=y_val.unique(), yticklabels=y_val.unique(), ax=ax);\n",
        "ax.set_xlabel('y_pred');\n",
        "ax.set_ylabel('y_true');\n",
        "ax.set_title('Confusion Matrix');\n",
        "\n",
        "cr = metrics.classification_report(y_val, y_pred_lr)\n",
        "print(cr)"
      ],
      "metadata": {
        "id": "uqstCcch0oSP"
      },
      "execution_count": null,
      "outputs": []
    },
    {
      "cell_type": "code",
      "source": [
        "metrics.f1_score(y_pred=y_pred_lr,y_true=y_val)"
      ],
      "metadata": {
        "id": "8kt0VmmM0tvO"
      },
      "execution_count": null,
      "outputs": []
    },
    {
      "cell_type": "code",
      "source": [
        "y_sample = pipe_lr.predict(test_datapoint_func_1)"
      ],
      "metadata": {
        "id": "byIBsxn8EJOa"
      },
      "execution_count": null,
      "outputs": []
    },
    {
      "cell_type": "code",
      "source": [
        "print(y_sample)"
      ],
      "metadata": {
        "id": "78R5Up8kEMnK"
      },
      "execution_count": null,
      "outputs": []
    },
    {
      "cell_type": "code",
      "source": [
        "y_pred_test = pipe_lr.predict(X_test)"
      ],
      "metadata": {
        "id": "UcAvRYXDS3cn"
      },
      "execution_count": null,
      "outputs": []
    },
    {
      "cell_type": "code",
      "source": [
        "len(y_pred_test)"
      ],
      "metadata": {
        "id": "izbdxfCiVP19"
      },
      "execution_count": null,
      "outputs": []
    },
    {
      "cell_type": "code",
      "source": [
        "X_te=pd.read_csv(r'/content/drive/MyDrive/sample_submission.csv')"
      ],
      "metadata": {
        "id": "1WYqgjwXUI-z"
      },
      "execution_count": null,
      "outputs": []
    },
    {
      "cell_type": "code",
      "source": [
        "#submitting the result\n",
        "pd.DataFrame({'qid': X_te['qid'], 'prediction' : y_pred_test}).to_csv('/content/drive/MyDrive/Random_Model.csv',index = False)"
      ],
      "metadata": {
        "id": "HmbtLCtqTM8V"
      },
      "execution_count": null,
      "outputs": []
    },
    {
      "cell_type": "markdown",
      "source": [
        "**Randomforest model:-**"
      ],
      "metadata": {
        "id": "o4d9A58400pT"
      }
    },
    {
      "cell_type": "code",
      "source": [
        "from sklearn.ensemble import RandomForestClassifier"
      ],
      "metadata": {
        "id": "kDY1NWdZ5ayW"
      },
      "execution_count": null,
      "outputs": []
    },
    {
      "cell_type": "code",
      "source": [
        "rf = RandomForestClassifier(class_weight='balanced_subsample')\n",
        "tfvec = TfidfVectorizer(stop_words='english', lowercase=False)\n",
        "pipe = Pipeline([\n",
        "    ('vectorizer', tfvec),\n",
        "    ('rf', rf )\n",
        "])"
      ],
      "metadata": {
        "id": "-YWhtxPf0vEw"
      },
      "execution_count": null,
      "outputs": []
    },
    {
      "cell_type": "code",
      "source": [
        "import pickle\n",
        "# create an iterator object with write permission - model.pkl\n",
        "with open('/content/drive/MyDrive/model_rf_pkl', 'wb') as files:\n",
        "    pickle.dump(rf, files)\n",
        "with open('/content/drive/MyDrive/vector_rf_pkl', 'wb') as files:\n",
        "    pickle.dump(pipe, files)\n",
        "#with open('/content/drive/MyDrive/model_pkl' , 'rb') as f:\n",
        "#    lr = pickle.load(f)"
      ],
      "metadata": {
        "id": "fN_O5bvoJW84"
      },
      "execution_count": null,
      "outputs": []
    },
    {
      "cell_type": "code",
      "source": [
        "y_pred = pipe.predict(X_val)"
      ],
      "metadata": {
        "id": "avmzrycI1M0l"
      },
      "execution_count": null,
      "outputs": []
    },
    {
      "cell_type": "code",
      "source": [
        "cm = metrics.confusion_matrix(y_val, y_pred)\n",
        "\n",
        "ax = plt.gca()\n",
        "sns.heatmap(cm, cmap='Blues', cbar=False, annot=True, xticklabels=y_val.unique(), yticklabels=y_val.unique(), ax=ax);\n",
        "ax.set_xlabel('y_pred');\n",
        "ax.set_ylabel('y_true');\n",
        "ax.set_title('Confusion Matrix');\n",
        "\n",
        "cr = metrics.classification_report(y_val, y_pred)\n",
        "print(cr)"
      ],
      "metadata": {
        "id": "UTzotqNk1Nfb"
      },
      "execution_count": null,
      "outputs": []
    },
    {
      "cell_type": "code",
      "source": [
        "metrics.f1_score(y_pred=y_pred_lr,y_true=y_val)"
      ],
      "metadata": {
        "id": "ROI2nDNt1RsC"
      },
      "execution_count": null,
      "outputs": []
    },
    {
      "cell_type": "markdown",
      "source": [
        "**LSTM**"
      ],
      "metadata": {
        "id": "mmzVN3yQ1ZAg"
      }
    },
    {
      "cell_type": "code",
      "source": [
        "import numpy as np\n",
        "from keras.callbacks import Callback\n",
        "from sklearn.metrics import confusion_matrix, f1_score,roc_auc_score\n",
        "import tensorflow as tf\n",
        "import keras as krs\n",
        "import pandas as pd\n",
        "import sklearn\n",
        "from matplotlib import pyplot as plt\n",
        "from keras import Sequential\n",
        "from keras.callbacks import EarlyStopping\n",
        "from tensorflow.keras.layers import Dense,Input,Activation\n",
        "from tensorflow.keras.models import Model\n",
        "import random as rn\n",
        "from tensorflow.keras.callbacks import LearningRateScheduler\n",
        "from tensorflow.keras.callbacks import ModelCheckpoint\n",
        "from tensorflow.keras.callbacks import ReduceLROnPlateau\n",
        "from sklearn.metrics import f1_score, accuracy_score, roc_auc_score\n",
        "from tensorflow.keras.layers import Dense,Input,Activation\n",
        "from tensorflow.keras.callbacks import LearningRateScheduler"
      ],
      "metadata": {
        "id": "hGnCqW7T8m0g"
      },
      "execution_count": null,
      "outputs": []
    },
    {
      "cell_type": "code",
      "source": [
        "# some config values \n",
        "embed_size = 300 # how big is each word vector\n",
        "max_features = 95000 # how many unique words to use (i.e num rows in embedding vector)\n",
        "maxlen = 70 # max number of words in a question to use"
      ],
      "metadata": {
        "id": "CoMccbWD1Uln"
      },
      "execution_count": null,
      "outputs": []
    },
    {
      "cell_type": "code",
      "source": [
        "def model_lstm_du(embedding_matrix):\n",
        "    inp = Input(shape=(maxlen,))\n",
        "    x = Embedding(max_features, embed_size, weights=[embedding_matrix])(inp)\n",
        "    #x = Bidirectional(CuDNNGRU(64, return_sequences=True))(x)\n",
        "    avg_pool = GlobalAveragePooling1D()(x)\n",
        "    max_pool = GlobalMaxPooling1D()(x)\n",
        "    conc = concatenate([avg_pool, max_pool])\n",
        "    conc = Dense(64, activation=\"relu\")(conc)\n",
        "    conc = Dropout(0.1)(conc)\n",
        "    outp = Dense(1, activation=\"sigmoid\")(conc)\n",
        "    model = Model(inputs=inp, outputs=outp)\n",
        "    model.compile(loss='binary_crossentropy', optimizer='adam', metrics=['accuracy'])\n",
        "    return model"
      ],
      "metadata": {
        "id": "PoTbIYOd1hJF"
      },
      "execution_count": null,
      "outputs": []
    },
    {
      "cell_type": "code",
      "source": [
        "import datetime\n",
        "%load_ext tensorboard\n",
        "!rm -rf ./logs/\n"
      ],
      "metadata": {
        "colab": {
          "base_uri": "https://localhost:8080/"
        },
        "id": "ehwu1zkN-IRZ",
        "outputId": "d3c75c00-0e41-4a0f-a362-4da7e2861fb6"
      },
      "execution_count": null,
      "outputs": [
        {
          "output_type": "stream",
          "name": "stdout",
          "text": [
            "The tensorboard extension is already loaded. To reload it, use:\n",
            "  %reload_ext tensorboard\n"
          ]
        }
      ]
    },
    {
      "cell_type": "code",
      "source": [
        "def train_pred(model, epochs=1):\n",
        "    for e in range(epochs):\n",
        "       \n",
        "        filepath=\"/content/drive/MyDrive/model_save/weights-{epoch:02d}-{val_accuracy:.4f}.hdf5\"\n",
        "        checkpoint = ModelCheckpoint(filepath=filepath, monitor='val_accuracy', verbose=1, save_best_only=True, mode='auto')\n",
        "        #lrschedule = LearningRateScheduler(changeLearningRate, verbose=1)\n",
        "        log_dir = \"logs/fit/\" + datetime.datetime.now().strftime(\"%Y%m%d-%H%M%S\")\n",
        "        tensorboard_callback1 = tf.keras.callbacks.TensorBoard(log_dir=log_dir, histogram_freq=1)\n",
        "        callbacks_one=[checkpoint,tensorboard_callback1]\n",
        "        model.fit(train_X, train_y, batch_size=512, epochs=1, validation_data=(val_X, val_y),callbacks=callbacks_one)\n",
        "        pred_val_y = model.predict([val_X], batch_size=1024, verbose=0)\n",
        "\n",
        "        best_thresh = 0.5\n",
        "        best_score = 0.0\n",
        "        for thresh in np.arange(0.1, 0.501, 0.01):\n",
        "            \n",
        "            thresh = np.round(thresh, 2)\n",
        "            score = metrics.f1_score(val_y, (pred_val_y > thresh).astype(int))\n",
        "            if score > best_score:\n",
        "                best_thresh = thresh\n",
        "                \n",
        "                best_score = score\n",
        "\n",
        "        print(\"Val F1 Score: {:.4f}\".format(best_score))\n",
        "    \n",
        "    pred_test_y = model.predict([test_X], batch_size=1024, verbose=0)\n",
        "    return pred_val_y, pred_test_y, best_score"
      ],
      "metadata": {
        "id": "ctspq7O41lgE"
      },
      "execution_count": null,
      "outputs": []
    },
    {
      "cell_type": "code",
      "source": [
        "%%time\n",
        "train_X, val_X, test_X, train_y, val_y, word_index = load_and_preprocess()"
      ],
      "metadata": {
        "id": "wF1pkZLb1peB",
        "colab": {
          "base_uri": "https://localhost:8080/"
        },
        "outputId": "eb05024d-a79a-4db2-def9-1b0d902c13db"
      },
      "execution_count": null,
      "outputs": [
        {
          "output_type": "stream",
          "name": "stdout",
          "text": [
            "Test shape :  (375806, 2)\n",
            "CPU times: user 2min, sys: 1.15 s, total: 2min 1s\n",
            "Wall time: 2min 4s\n"
          ]
        }
      ]
    },
    {
      "cell_type": "code",
      "source": [
        "%%time\n",
        "embedding_matrix_1 = load_glove_vector(word_index)\n",
        "\n",
        "#embedding_matrix_2 = load_fasttext(word_index)\n",
        "#embedding_matrix_3 = load_para(word_index)"
      ],
      "metadata": {
        "id": "XOCzTkx51yuR",
        "colab": {
          "base_uri": "https://localhost:8080/"
        },
        "outputId": "3c0ec7d2-9bff-4e21-8dd9-a1b9ceab086a"
      },
      "execution_count": null,
      "outputs": [
        {
          "output_type": "stream",
          "name": "stderr",
          "text": [
            "/usr/local/lib/python3.7/dist-packages/IPython/core/magics/execution.py:1193: FutureWarning: arrays to stack must be passed as a \"sequence\" type such as list or tuple. Support for non-sequence iterables such as generators is deprecated as of NumPy 1.16 and will raise an error in the future.\n",
            "  exec(code, glob, local_ns)\n"
          ]
        },
        {
          "output_type": "stream",
          "name": "stdout",
          "text": [
            "CPU times: user 1min 56s, sys: 14.2 s, total: 2min 10s\n",
            "Wall time: 2min 20s\n"
          ]
        }
      ]
    },
    {
      "cell_type": "code",
      "source": [
        "%%time\n",
        "import pickle\n",
        "pred_val_y, pred_test_y, best_score = train_pred(model_lstm_du(embedding_matrix_1), epochs = 1)"
      ],
      "metadata": {
        "id": "VOwJhRZ_11yJ",
        "colab": {
          "base_uri": "https://localhost:8080/"
        },
        "outputId": "056f4231-03a8-493a-defd-751e24ebb039"
      },
      "execution_count": null,
      "outputs": [
        {
          "output_type": "stream",
          "name": "stdout",
          "text": [
            "2345/2347 [============================>.] - ETA: 0s - loss: 0.1281 - accuracy: 0.9508\n",
            "Epoch 1: val_accuracy improved from -inf to 0.95664, saving model to /content/drive/MyDrive/model_save/weights-01-0.9566.hdf5\n",
            "2347/2347 [==============================] - 65s 26ms/step - loss: 0.1281 - accuracy: 0.9508 - val_loss: 0.1074 - val_accuracy: 0.9566\n",
            "Val F1 Score: 0.6509\n",
            "CPU times: user 51.5 s, sys: 6.65 s, total: 58.2 s\n",
            "Wall time: 1min 8s\n"
          ]
        }
      ]
    },
    {
      "cell_type": "code",
      "source": [
        "thresholds = []\n",
        "for thresh in np.arange(0.1, 0.501, 0.01):\n",
        "    \n",
        "    thresh = np.round(thresh, 2)\n",
        "    res = metrics.f1_score(val_y, (pred_val_y > thresh).astype(int))\n",
        "    \n",
        "    thresholds.append([thresh, res])\n",
        "    print(\"F1 score at threshold {0} is {1}\".format(thresh, res))\n",
        "    \n",
        "thresholds.sort(key=lambda x: x[1], reverse=True)\n",
        "best_thresh = thresholds[0][0]\n",
        "print(\"Best threshold: \", best_thresh)"
      ],
      "metadata": {
        "id": "xdoPXU_E2E_q",
        "colab": {
          "base_uri": "https://localhost:8080/"
        },
        "outputId": "9dfa7b65-758a-4657-df8d-a019a4cd972d"
      },
      "execution_count": null,
      "outputs": [
        {
          "output_type": "stream",
          "name": "stdout",
          "text": [
            "F1 score at threshold 0.1 is 0.5882910892132582\n",
            "F1 score at threshold 0.11 is 0.5970488081725313\n",
            "F1 score at threshold 0.12 is 0.6045791394757217\n",
            "F1 score at threshold 0.13 is 0.612316384180791\n",
            "F1 score at threshold 0.14 is 0.6178263369752731\n",
            "F1 score at threshold 0.15 is 0.622539831302718\n",
            "F1 score at threshold 0.16 is 0.6275866181644701\n",
            "F1 score at threshold 0.17 is 0.6299059751289051\n",
            "F1 score at threshold 0.18 is 0.6340862928540654\n",
            "F1 score at threshold 0.19 is 0.637534383595899\n",
            "F1 score at threshold 0.2 is 0.6415022521093702\n",
            "F1 score at threshold 0.21 is 0.6426596360362677\n",
            "F1 score at threshold 0.22 is 0.6443558402509967\n",
            "F1 score at threshold 0.23 is 0.6458278145695364\n",
            "F1 score at threshold 0.24 is 0.6483803903158741\n",
            "F1 score at threshold 0.25 is 0.6480363562368582\n",
            "F1 score at threshold 0.26 is 0.6494095028838232\n",
            "F1 score at threshold 0.27 is 0.6493506493506493\n",
            "F1 score at threshold 0.28 is 0.6501230228471002\n",
            "F1 score at threshold 0.29 is 0.6509052183173589\n",
            "F1 score at threshold 0.3 is 0.6503155479059093\n",
            "F1 score at threshold 0.31 is 0.6495181508586334\n",
            "F1 score at threshold 0.32 is 0.6482415734444688\n",
            "F1 score at threshold 0.33 is 0.6475373465463687\n",
            "F1 score at threshold 0.34 is 0.6458847275173806\n",
            "F1 score at threshold 0.35 is 0.6460123624302729\n",
            "F1 score at threshold 0.36 is 0.6456824937123695\n",
            "F1 score at threshold 0.37 is 0.643973815941471\n",
            "F1 score at threshold 0.38 is 0.6422517689137703\n",
            "F1 score at threshold 0.39 is 0.639176877159912\n",
            "F1 score at threshold 0.4 is 0.6362049817547201\n",
            "F1 score at threshold 0.41 is 0.6337362901288928\n",
            "F1 score at threshold 0.42 is 0.6313405064315184\n",
            "F1 score at threshold 0.43 is 0.6274926446551161\n",
            "F1 score at threshold 0.44 is 0.6239457582272201\n",
            "F1 score at threshold 0.45 is 0.6213348926572551\n",
            "F1 score at threshold 0.46 is 0.6186262115465656\n",
            "F1 score at threshold 0.47 is 0.615109749872384\n",
            "F1 score at threshold 0.48 is 0.6128893847078005\n",
            "F1 score at threshold 0.49 is 0.6084316446911867\n",
            "F1 score at threshold 0.5 is 0.60257872116481\n",
            "Best threshold:  0.29\n"
          ]
        }
      ]
    },
    {
      "cell_type": "code",
      "source": [
        "metrics.confusion_matrix(val_y,pred_val_y>best_thresh)"
      ],
      "metadata": {
        "id": "QuR_u82j2Kxe",
        "colab": {
          "base_uri": "https://localhost:8080/"
        },
        "outputId": "f9e807c7-e449-4acf-8108-cc8e4be6c847"
      },
      "execution_count": null,
      "outputs": [
        {
          "output_type": "execute_result",
          "data": {
            "text/plain": [
              "array([[94989,  3025],\n",
              "       [ 1892,  4584]])"
            ]
          },
          "metadata": {},
          "execution_count": 101
        }
      ]
    },
    {
      "cell_type": "markdown",
      "source": [
        "**Attention layer and lstm baselinemodel**"
      ],
      "metadata": {
        "id": "R3vPah6D2hPp"
      }
    },
    {
      "cell_type": "code",
      "source": [
        "embed_size = 300 # how big is each word vector\n",
        "max_features = 55000 # how many unique words to use (i.e num rows in embedding vector)\n",
        "maxlen = 27 # max number of words in a question to use\n",
        "batch_size = 10000"
      ],
      "metadata": {
        "id": "4K3ooGGE2QB0"
      },
      "execution_count": null,
      "outputs": []
    },
    {
      "cell_type": "code",
      "source": [
        "from tensorflow.keras import layers \n",
        "from tensorflow.keras.layers import Layer, InputSpec"
      ],
      "metadata": {
        "id": "lnxWBnjn7zjF"
      },
      "execution_count": null,
      "outputs": []
    },
    {
      "cell_type": "code",
      "source": [
        "# https://www.kaggle.com/suicaokhoailang/lstm-attention-baseline-0-652-lb\n",
        "class Attention(Layer):\n",
        "    def __init__(self, step_dim,\n",
        "                 W_regularizer=None, b_regularizer=None,\n",
        "                 W_constraint=None, b_constraint=None,\n",
        "                 bias=True, **kwargs):\n",
        "        self.supports_masking = True\n",
        "        self.init = initializers.get('glorot_uniform')\n",
        "\n",
        "        self.W_regularizer = regularizers.get(W_regularizer)\n",
        "        self.b_regularizer = regularizers.get(b_regularizer)\n",
        "\n",
        "        self.W_constraint = constraints.get(W_constraint)\n",
        "        self.b_constraint = constraints.get(b_constraint)\n",
        "\n",
        "        self.bias = bias\n",
        "        self.step_dim = step_dim\n",
        "        self.features_dim = 0\n",
        "        super(Attention, self).__init__(**kwargs)\n",
        "\n",
        "    def build(self, input_shape):\n",
        "        assert len(input_shape) == 3\n",
        "\n",
        "        self.W = self.add_weight(shape=(input_shape[-1],),\n",
        "                                 initializer=self.init,\n",
        "                                 name='{}_W'.format(self.name),\n",
        "                                 regularizer=self.W_regularizer,\n",
        "                                 constraint=self.W_constraint)\n",
        "        self.features_dim = input_shape[-1]\n",
        "\n",
        "        if self.bias:\n",
        "            self.b = self.add_weight(shape=(input_shape[1],),\n",
        "                                     initializer='zero',\n",
        "                                     name='{}_b'.format(self.name),\n",
        "                                     regularizer=self.b_regularizer,\n",
        "                                     constraint=self.b_constraint)\n",
        "        else:\n",
        "            self.b = None\n",
        "\n",
        "        self.built = True\n",
        "\n",
        "    def compute_mask(self, input, input_mask=None):\n",
        "        return None\n",
        "\n",
        "    def call(self, x, mask=None):\n",
        "        features_dim = self.features_dim\n",
        "        step_dim = self.step_dim\n",
        "\n",
        "        eij = K.reshape(K.dot(K.reshape(x, (-1, features_dim)),\n",
        "                        K.reshape(self.W, (features_dim, 1))), (-1, step_dim))\n",
        "\n",
        "        if self.bias:\n",
        "            eij += self.b\n",
        "\n",
        "        eij = K.tanh(eij)\n",
        "\n",
        "        a = K.exp(eij)\n",
        "\n",
        "        if mask is not None:\n",
        "            a *= K.cast(mask, K.floatx())\n",
        "\n",
        "        a /= K.cast(K.sum(a, axis=1, keepdims=True) + K.epsilon(), K.floatx())\n",
        "\n",
        "        a = K.expand_dims(a)\n",
        "        weighted_input = x * a\n",
        "        return K.sum(weighted_input, axis=1)\n",
        "\n",
        "    def compute_output_shape(self, input_shape):\n",
        "        return input_shape[0],  self.features_dim"
      ],
      "metadata": {
        "id": "7883QSgG2oPx"
      },
      "execution_count": null,
      "outputs": []
    },
    {
      "cell_type": "code",
      "source": [
        "#F1 score and CLR\n",
        "\n",
        "# https://www.kaggle.com/hireme/fun-api-keras-f1-metric-cyclical-learning-rate/code\n",
        "\n",
        "def __init__(self, base_lr=0.001, max_lr=0.006, step_size=2000., mode='triangular',\n",
        "              gamma=1., scale_fn=None, scale_mode='cycle'):\n",
        "    super(CyclicLR, self).__init__()\n",
        "\n",
        "    self.base_lr = base_lr\n",
        "    self.max_lr = max_lr\n",
        "    self.step_size = step_size\n",
        "    self.mode = mode\n",
        "    self.gamma = gamma\n",
        "    if scale_fn == None:\n",
        "        if self.mode == 'triangular':\n",
        "            self.scale_fn = lambda x: 1.\n",
        "            self.scale_mode = 'cycle'\n",
        "        elif self.mode == 'triangular2':\n",
        "            self.scale_fn = lambda x: 1/(2.**(x-1))\n",
        "            self.scale_mode = 'cycle'\n",
        "        elif self.mode == 'exp_range':\n",
        "            self.scale_fn = lambda x: gamma**(x)\n",
        "            self.scale_mode = 'iterations'\n",
        "    else:\n",
        "        self.scale_fn = scale_fn\n",
        "        self.scale_mode = scale_mode\n",
        "    self.clr_iterations = 0.\n",
        "    self.trn_iterations = 0.\n",
        "    self.history = {}\n",
        "\n",
        "    self._reset()\n",
        "\n",
        "def _reset(self, new_base_lr=None, new_max_lr=None,\n",
        "            new_step_size=None):\n",
        "    \n",
        "    if new_base_lr != None:\n",
        "        self.base_lr = new_base_lr\n",
        "    if new_max_lr != None:\n",
        "        self.max_lr = new_max_lr\n",
        "    if new_step_size != None:\n",
        "        self.step_size = new_step_size\n",
        "    self.clr_iterations = 0.\n",
        "    \n",
        "def clr(self):\n",
        "    cycle = np.floor(1+self.clr_iterations/(2*self.step_size))\n",
        "    x = np.abs(self.clr_iterations/self.step_size - 2*cycle + 1)\n",
        "    if self.scale_mode == 'cycle':\n",
        "        return self.base_lr + (self.max_lr-self.base_lr)*np.maximum(0, (1-x))*self.scale_fn(cycle)\n",
        "    else:\n",
        "        return self.base_lr + (self.max_lr-self.base_lr)*np.maximum(0, (1-x))*self.scale_fn(self.clr_iterations)\n",
        "    \n",
        "def on_train_begin(self, logs={}):\n",
        "    logs = logs or {}\n",
        "\n",
        "    if self.clr_iterations == 0:\n",
        "        K.set_value(self.model.optimizer.lr, self.base_lr)\n",
        "    else:\n",
        "        K.set_value(self.model.optimizer.lr, self.clr())        \n",
        "        \n",
        "def on_batch_end(self, epoch, logs=None):\n",
        "    \n",
        "    logs = logs or {}\n",
        "    self.trn_iterations += 1\n",
        "    self.clr_iterations += 1\n",
        "\n",
        "    self.history.setdefault('lr', []).append(K.get_value(self.model.optimizer.lr))\n",
        "    self.history.setdefault('iterations', []).append(self.trn_iterations)\n",
        "\n",
        "    for k, v in logs.items():\n",
        "        self.history.setdefault(k, []).append(v)\n",
        "    \n",
        "    K.set_value(self.model.optimizer.lr, self.clr())"
      ],
      "metadata": {
        "id": "bw8DHEy42s2t"
      },
      "execution_count": null,
      "outputs": []
    },
    {
      "cell_type": "code",
      "source": [
        "def f1(y_true, y_pred):\n",
        "    '''\n",
        "    metric from here \n",
        "    https://stackoverflow.com/questions/43547402/how-to-calculate-f1-macro-in-keras\n",
        "    '''\n",
        "    def recall(y_true, y_pred):\n",
        "      \n",
        "        true_positives = K.sum(K.round(K.clip(y_true * y_pred, 0, 1)))\n",
        "        possible_positives = K.sum(K.round(K.clip(y_true, 0, 1)))\n",
        "        recall = true_positives / (possible_positives + K.epsilon())\n",
        "        return recall\n",
        "\n",
        "    def precision(y_true, y_pred):\n",
        "        \n",
        "        true_positives = K.sum(K.round(K.clip(y_true * y_pred, 0, 1)))\n",
        "        predicted_positives = K.sum(K.round(K.clip(y_pred, 0, 1)))\n",
        "        precision = true_positives / (predicted_positives + K.epsilon())\n",
        "        return precision\n",
        "    precision = precision(y_true, y_pred)\n",
        "    recall = recall(y_true, y_pred)\n",
        "    return 2*((precision*recall)/(precision+recall+K.epsilon()))"
      ],
      "metadata": {
        "id": "5ttakuzt2x83"
      },
      "execution_count": null,
      "outputs": []
    },
    {
      "cell_type": "code",
      "source": [
        "#LSTM models\n",
        "def model_lstm_atten(embedding_matrix):\n",
        "    \n",
        "    inp = Input(shape=(maxlen,))\n",
        "    x = Embedding(max_features, embed_size, weights=[embedding_matrix], trainable=False)(inp)\n",
        "    x = SpatialDropout1D(0.1)(x)\n",
        "    x = Bidirectional(CuDNNLSTM(40, return_sequences=True))(x)\n",
        "    y = Bidirectional(CuDNNGRU(40, return_sequences=True))(x)\n",
        "    \n",
        "    atten_1 = Attention(maxlen)(x) # skip connect\n",
        "    atten_2 = Attention(maxlen)(y)\n",
        "    avg_pool = GlobalAveragePooling1D()(y)\n",
        "    max_pool = GlobalMaxPooling1D()(y)\n",
        "    \n",
        "    conc = concatenate([atten_1, atten_2, avg_pool, max_pool])\n",
        "    conc = Dense(16, activation=\"relu\")(conc)\n",
        "    conc = Dropout(0.1)(conc)\n",
        "    outp = Dense(1, activation=\"sigmoid\")(conc)    \n",
        "\n",
        "    model = Model(inputs=inp, outputs=outp)\n",
        "    model.compile(loss='binary_crossentropy', optimizer='adam', metrics=[f1])\n",
        "    \n",
        "    return model"
      ],
      "metadata": {
        "id": "RC47cWwX21mb"
      },
      "execution_count": null,
      "outputs": []
    },
    {
      "cell_type": "code",
      "source": [
        "#Train and predict\n",
        "\n",
        "# https://www.kaggle.com/strideradu/word2vec-and-gensim-go-go-go\n",
        "def train_pred(model, train_X, train_y, val_X, val_y, epochs=2, callback=None):\n",
        "    for e in range(epochs):\n",
        "        model.fit(train_X, train_y, batch_size=512, epochs=1, validation_data=(val_X, val_y), callbacks = callback, verbose=0)\n",
        "        pred_val_y = model.predict([val_X], batch_size=1024, verbose=0)\n",
        "\n",
        "        best_score = metrics.f1_score(val_y, (pred_val_y > 0.33).astype(int))\n",
        "        print(\"Epoch: \", e, \"-    Val F1 Score: {:.4f}\".format(best_score))\n",
        "\n",
        "    pred_test_y = model.predict([test_X], batch_size=1024, verbose=0)\n",
        "    print('=' * 60)\n",
        "    return pred_val_y, pred_test_y, best_score"
      ],
      "metadata": {
        "id": "GbuYc_Yh2472"
      },
      "execution_count": null,
      "outputs": []
    },
    {
      "cell_type": "code",
      "source": [
        "%%time\n",
        "train_X, val_X, test_X, train_y, val_y, word_index = load_and_preprocess()"
      ],
      "metadata": {
        "colab": {
          "base_uri": "https://localhost:8080/"
        },
        "id": "yYBkmVEZHGSA",
        "outputId": "20040183-aa0b-4917-ce9e-670eb10877d6"
      },
      "execution_count": null,
      "outputs": [
        {
          "output_type": "stream",
          "name": "stdout",
          "text": [
            "Test shape :  (375806, 2)\n",
            "CPU times: user 1min 59s, sys: 978 ms, total: 2min\n",
            "Wall time: 2min 1s\n"
          ]
        }
      ]
    },
    {
      "cell_type": "code",
      "source": [
        "%%time\n",
        "train_X, val_X, test_X, train_y, val_y, word_index = load_and_preprocess()"
      ],
      "metadata": {
        "id": "8ZXk7I2AFMn1"
      },
      "execution_count": null,
      "outputs": []
    },
    {
      "cell_type": "code",
      "source": [
        "embedding_matrix_3 = load_paragraph(word_index)\n",
        "\n",
        "## Simple average: http://aclweb.org/anthology/N18-2031\n",
        "\n",
        "# We have presented an argument for averaging as\n",
        "# a valid meta-embedding technique, and found experimental\n",
        "# performance to be close to, or in some cases \n",
        "# better than that of concatenation, with the\n",
        "# additional benefit of reduced dimensionality  \n",
        "\n",
        "\n",
        "## Unweighted DME in https://arxiv.org/pdf/1804.07983.pdf\n",
        "\n",
        "# “The downside of concatenating embeddings and \n",
        "#  giving that as input to an RNN encoder, however,\n",
        "#  is that the network then quickly becomes inefficient\n",
        "#  as we combine more and more embeddings.”\n",
        "  \n",
        "embedding_matrix = np.mean([embedding_matrix_1, embedding_matrix_3], axis = 0)\n",
        "np.shape(embedding_matrix)\n",
        "\n"
      ],
      "metadata": {
        "colab": {
          "base_uri": "https://localhost:8080/"
        },
        "id": "CfvM2YiPLKn-",
        "outputId": "12a54b6d-ebe9-4f2a-8653-7fa673bb75c5"
      },
      "execution_count": null,
      "outputs": [
        {
          "output_type": "stream",
          "name": "stderr",
          "text": [
            "/usr/local/lib/python3.7/dist-packages/IPython/core/interactiveshell.py:2882: FutureWarning: arrays to stack must be passed as a \"sequence\" type such as list or tuple. Support for non-sequence iterables such as generators is deprecated as of NumPy 1.16 and will raise an error in the future.\n",
            "  exec(code_obj, self.user_global_ns, self.user_ns)\n"
          ]
        },
        {
          "output_type": "execute_result",
          "data": {
            "text/plain": [
              "(55000, 300)"
            ]
          },
          "metadata": {},
          "execution_count": 116
        }
      ]
    },
    {
      "cell_type": "code",
      "source": [
        "# https://www.kaggle.com/ryanzhang/tfidf-naivebayes-logreg-baseline\n",
        "\n",
        "def threshold_search(y_true, y_proba):\n",
        "    best_threshold = 0\n",
        "    best_score = 0\n",
        "    for threshold in [i * 0.01 for i in range(100)]:\n",
        "        score = f1_score(y_true=y_true, y_pred=y_proba > threshold)\n",
        "        if score > best_score:\n",
        "            best_threshold = threshold\n",
        "            best_score = score\n",
        "    search_result = {'threshold': best_threshold, 'f1': best_score}\n",
        "    return search_result\n",
        "DATA_SPLIT_SEED = 2018\n",
        "#filepath=\"/content/drive/MyDrive/model_save_1/weights-{epoch:02d}-{val_accuracy:.4f}.hdf5\"\n",
        "#checkpoint = ModelCheckpoint(filepath=filepath, monitor='val_accuracy', verbose=1, save_best_only=True, mode='auto')\n",
        "#lrschedule = LearningRateScheduler(changeLearningRate, verbose=1)\n",
        "log_dir = \"logs/fit/\" + datetime.datetime.now().strftime(\"%Y%m%d-%H%M%S\")\n",
        "#tensorboard_callback1 = tf.keras.callbacks.TensorBoard(log_dir=log_dir, histogram_freq=1)\n",
        "#callbacks_one=[checkpoint,tensorboard_callback1]\n",
        "from sklearn.model_selection import GridSearchCV, StratifiedKFold\n",
        "train_meta = np.zeros(train_y.shape)\n",
        "test_meta = np.zeros(test_X.shape[0])\n",
        "splits = list(StratifiedKFold(n_splits=4, shuffle=True, random_state=DATA_SPLIT_SEED).split(train_X, train_y))\n",
        "for idx, (train_idx, valid_idx) in enumerate(splits):\n",
        "        X_train = train_X[train_idx]\n",
        "        y_train = train_y[train_idx]\n",
        "        X_val = train_X[valid_idx]\n",
        "        y_val = train_y[valid_idx]\n",
        "        model = model_lstm_atten(embedding_matrix)\n",
        "        pred_val_y, pred_test_y, best_score = train_pred(model, X_train, y_train, X_val, y_val, epochs = 1)\n",
        "        train_meta[valid_idx] = pred_val_y.reshape(-1)\n",
        "        test_meta += pred_test_y.reshape(-1) / len(splits)"
      ],
      "metadata": {
        "id": "DxEM41h9DKsa",
        "colab": {
          "base_uri": "https://localhost:8080/"
        },
        "outputId": "6b5e83c0-a17d-47a5-dc24-273800e0fea6"
      },
      "execution_count": null,
      "outputs": [
        {
          "output_type": "stream",
          "name": "stdout",
          "text": [
            "Epoch:  0 -    Val F1 Score: 0.6466\n",
            "============================================================\n",
            "Epoch:  0 -    Val F1 Score: 0.6251\n",
            "============================================================\n",
            "Epoch:  0 -    Val F1 Score: 0.6364\n",
            "============================================================\n",
            "Epoch:  0 -    Val F1 Score: 0.6202\n",
            "============================================================\n"
          ]
        }
      ]
    },
    {
      "cell_type": "code",
      "source": [
        "f1_score(y_true=train_y, y_pred=train_meta > 0.33)"
      ],
      "metadata": {
        "id": "6cutn9DX28xu",
        "colab": {
          "base_uri": "https://localhost:8080/"
        },
        "outputId": "37d4c9ee-de98-4f74-9666-5dfd3cb59f48"
      },
      "execution_count": null,
      "outputs": [
        {
          "output_type": "execute_result",
          "data": {
            "text/plain": [
              "0.63241026059629"
            ]
          },
          "metadata": {},
          "execution_count": 131
        }
      ]
    },
    {
      "cell_type": "markdown",
      "source": [
        "**cnn model**"
      ],
      "metadata": {
        "id": "3ht1L_ik3CiG"
      }
    },
    {
      "cell_type": "code",
      "source": [
        "from keras.preprocessing.text import Tokenizer\n",
        "from keras.preprocessing.sequence import pad_sequences\n",
        "from keras.layers import Dense, Input, LSTM, Embedding, Dropout, Activation, CuDNNGRU, Conv1D, CuDNNLSTM, concatenate\n",
        "from keras.layers import Bidirectional, GlobalMaxPool1D, Dropout, SpatialDropout1D, GlobalAveragePooling1D, GlobalMaxPooling1D\n",
        "from keras.models import Model\n",
        "from keras import initializers, regularizers, constraints, optimizers, layers\n",
        "import gc"
      ],
      "metadata": {
        "id": "QrD4Jqs52_zU"
      },
      "execution_count": 7,
      "outputs": []
    },
    {
      "cell_type": "code",
      "source": [
        "## Settings:\n",
        "    \n",
        "# some config values \n",
        "embed_size = 300 # how big is each word vector\n",
        "max_features = 50000 # how many unique words to use (i.e num rows in embedding vector)\n",
        "maxlen = 100 # max number of words in a question to use\n",
        "\n",
        "S_DROPOUT = 0.4\n",
        "DROPOUT = 0.1"
      ],
      "metadata": {
        "id": "fpnZTi1w3UPt"
      },
      "execution_count": 8,
      "outputs": []
    },
    {
      "cell_type": "code",
      "source": [
        "## split to train and val\n",
        "train,  val = train_test_split(train, test_size=0.1, random_state=2018)\n",
        "\n",
        "## fill up the missing values\n",
        "train_X = train[\"question_text\"].fillna(\"_na_\").values\n",
        "val_X = val[\"question_text\"].fillna(\"_na_\").values\n",
        "test_X = test[\"question_text\"].fillna(\"_na_\").values\n",
        "\n",
        "## Tokenize the sentences\n",
        "tokenizer = Tokenizer(num_words=max_features)\n",
        "tokenizer.fit_on_texts(list(train_X))\n",
        "train_X = tokenizer.texts_to_sequences(train_X)\n",
        "val_X = tokenizer.texts_to_sequences(val_X)\n",
        "test_X = tokenizer.texts_to_sequences(test_X)\n",
        "\n",
        "## Pad the sentences \n",
        "train_X = pad_sequences(train_X, maxlen=maxlen)\n",
        "val_X = pad_sequences(val_X, maxlen=maxlen)\n",
        "test_X = pad_sequences(test_X, maxlen=maxlen)\n",
        "\n",
        "## Get the target values\n",
        "train_y = train['target'].values\n",
        "val_y = val['target'].values"
      ],
      "metadata": {
        "id": "njyjHbqz3VB_"
      },
      "execution_count": 9,
      "outputs": []
    },
    {
      "cell_type": "code",
      "source": [
        "EMBEDDING_FILE = '/content/glove.840B.300d/glove.840B.300d.txt'\n",
        "def get_coefs(word,*arr): return word, np.asarray(arr, dtype='float32')\n",
        "embeddings_index = dict(get_coefs(*o.split(\" \")) for o in open(EMBEDDING_FILE))\n",
        "\n",
        "all_embs = np.stack(embeddings_index.values())\n",
        "emb_mean,emb_std = all_embs.mean(), all_embs.std()\n",
        "embed_size = all_embs.shape[1]\n",
        "\n",
        "word_index = tokenizer.word_index\n",
        "nb_words = min(max_features, len(word_index))\n",
        "embedding_matrix_1 = np.random.normal(emb_mean, emb_std, (nb_words, embed_size))\n",
        "for word, i in word_index.items():\n",
        "    if i >= max_features: continue\n",
        "    embedding_vector = embeddings_index.get(word)\n",
        "    if embedding_vector is not None: embedding_matrix_1[i] = embedding_vector\n",
        "\n",
        "del embeddings_index; gc.collect() "
      ],
      "metadata": {
        "id": "yTQZNqQU3YOs",
        "colab": {
          "base_uri": "https://localhost:8080/"
        },
        "outputId": "1d3668bc-b59f-46d4-d09f-475b18cb2cbe"
      },
      "execution_count": 10,
      "outputs": [
        {
          "output_type": "stream",
          "name": "stderr",
          "text": [
            "/usr/local/lib/python3.7/dist-packages/IPython/core/interactiveshell.py:2822: FutureWarning: arrays to stack must be passed as a \"sequence\" type such as list or tuple. Support for non-sequence iterables such as generators is deprecated as of NumPy 1.16 and will raise an error in the future.\n",
            "  if self.run_code(code, result):\n"
          ]
        },
        {
          "output_type": "execute_result",
          "data": {
            "text/plain": [
              "0"
            ]
          },
          "metadata": {},
          "execution_count": 10
        }
      ]
    },
    {
      "cell_type": "code",
      "source": [
        "EMBEDDING_FILE = '/content/wiki-news-300d-1M/wiki-news-300d-1M.vec'\n",
        "def get_coefs(word,*arr): return word, np.asarray(arr, dtype='float32')\n",
        "embeddings_index = dict(get_coefs(*o.split(\" \")) for o in open(EMBEDDING_FILE) if len(o)>100)\n",
        "\n",
        "all_embs = np.stack(embeddings_index.values())\n",
        "emb_mean,emb_std = all_embs.mean(), all_embs.std()\n",
        "embed_size = all_embs.shape[1]\n",
        "\n",
        "word_index = tokenizer.word_index\n",
        "nb_words = min(max_features, len(word_index))\n",
        "embedding_matrix_2 = np.random.normal(emb_mean, emb_std, (nb_words, embed_size))\n",
        "for word, i in word_index.items():\n",
        "    if i >= max_features: continue\n",
        "    embedding_vector = embeddings_index.get(word)\n",
        "    if embedding_vector is not None: embedding_matrix_2[i] = embedding_vector\n",
        "        \n",
        "del embeddings_index; gc.collect()    "
      ],
      "metadata": {
        "id": "Y3EeAK9X3bvB",
        "colab": {
          "base_uri": "https://localhost:8080/"
        },
        "outputId": "77577ce9-3bd4-4b40-9a4f-1499663daf93"
      },
      "execution_count": 11,
      "outputs": [
        {
          "output_type": "stream",
          "name": "stderr",
          "text": [
            "/usr/local/lib/python3.7/dist-packages/IPython/core/interactiveshell.py:2822: FutureWarning: arrays to stack must be passed as a \"sequence\" type such as list or tuple. Support for non-sequence iterables such as generators is deprecated as of NumPy 1.16 and will raise an error in the future.\n",
            "  if self.run_code(code, result):\n"
          ]
        },
        {
          "output_type": "execute_result",
          "data": {
            "text/plain": [
              "0"
            ]
          },
          "metadata": {},
          "execution_count": 11
        }
      ]
    },
    {
      "cell_type": "code",
      "source": [
        "EMBEDDING_FILE = '/content/paragram_300_sl999/paragram_300_sl999.txt'\n",
        "def get_coefs(word,*arr): return word, np.asarray(arr, dtype='float32')\n",
        "embeddings_index = dict(get_coefs(*o.split(\" \")) for o in open(EMBEDDING_FILE, encoding=\"utf8\", errors='ignore') if len(o)>100)\n",
        "\n",
        "all_embs = np.stack(embeddings_index.values())\n",
        "emb_mean,emb_std = all_embs.mean(), all_embs.std()\n",
        "embed_size = all_embs.shape[1]\n",
        "\n",
        "word_index = tokenizer.word_index\n",
        "nb_words = min(max_features, len(word_index))\n",
        "embedding_matrix_3 = np.random.normal(emb_mean, emb_std, (nb_words, embed_size))\n",
        "for word, i in word_index.items():\n",
        "    if i >= max_features: continue\n",
        "    embedding_vector = embeddings_index.get(word)\n",
        "    if embedding_vector is not None: embedding_matrix_3[i] = embedding_vector\n",
        "\n",
        "del embeddings_index; gc.collect()   "
      ],
      "metadata": {
        "id": "wBd-6Re33fA0",
        "colab": {
          "base_uri": "https://localhost:8080/"
        },
        "outputId": "ff99c4b6-6ec5-48ec-f939-d3a48f685e31"
      },
      "execution_count": 13,
      "outputs": [
        {
          "output_type": "stream",
          "name": "stderr",
          "text": [
            "/usr/local/lib/python3.7/dist-packages/IPython/core/interactiveshell.py:2822: FutureWarning: arrays to stack must be passed as a \"sequence\" type such as list or tuple. Support for non-sequence iterables such as generators is deprecated as of NumPy 1.16 and will raise an error in the future.\n",
            "  if self.run_code(code, result):\n"
          ]
        },
        {
          "output_type": "execute_result",
          "data": {
            "text/plain": [
              "172"
            ]
          },
          "metadata": {},
          "execution_count": 13
        }
      ]
    },
    {
      "cell_type": "code",
      "source": [
        "# https://www.kaggle.com/strideradu/word2vec-and-gensim-go-go-go\n",
        "from gensim.models import KeyedVectors\n",
        "\n",
        "EMBEDDING_FILE = '/content/GoogleNews-vectors-negative300/GoogleNews-vectors-negative300.bin'\n",
        "#EMBEDDING_FILE = '/content/drive/MyDrive/glove.840B.300d/glove.840B.300d.txt'\n",
        "embeddings_index = KeyedVectors.load_word2vec_format(EMBEDDING_FILE, binary=True)\n",
        "\n",
        "word_index = tokenizer.word_index\n",
        "nb_words = min(max_features, len(word_index))\n",
        "embedding_matrix_4 = (np.random.rand(nb_words, embed_size) - 0.5) / 5.0\n",
        "for word, i in word_index.items():\n",
        "    if i >= max_features: continue\n",
        "    if word in embeddings_index:\n",
        "        embedding_vector = embeddings_index.get_vector(word)\n",
        "        embedding_matrix_4[i] = embedding_vector\n",
        "        \n",
        "del embeddings_index; gc.collect()  "
      ],
      "metadata": {
        "id": "qc8Y3lSL3iG8",
        "colab": {
          "base_uri": "https://localhost:8080/"
        },
        "outputId": "82e85fad-c54f-4cb9-ec41-ee18327191fc"
      },
      "execution_count": 14,
      "outputs": [
        {
          "output_type": "execute_result",
          "data": {
            "text/plain": [
              "0"
            ]
          },
          "metadata": {},
          "execution_count": 14
        }
      ]
    },
    {
      "cell_type": "code",
      "source": [
        "embedding_matrix = np.concatenate((embedding_matrix_1, embedding_matrix_2, embedding_matrix_3, embedding_matrix_4), axis=1)  \n",
        "del embedding_matrix_1, embedding_matrix_2, embedding_matrix_3, embedding_matrix_4\n",
        "gc.collect()\n",
        "np.shape(embedding_matrix)"
      ],
      "metadata": {
        "id": "odHjGvlC3lqU",
        "colab": {
          "base_uri": "https://localhost:8080/"
        },
        "outputId": "542b51fb-ee72-4251-de1a-aeeaaa25a5e9"
      },
      "execution_count": 15,
      "outputs": [
        {
          "output_type": "execute_result",
          "data": {
            "text/plain": [
              "(50000, 1200)"
            ]
          },
          "metadata": {},
          "execution_count": 15
        }
      ]
    },
    {
      "cell_type": "code",
      "source": [
        "# https://www.kaggle.com/yekenot/2dcnn-textclassifier\n",
        "from keras.layers import Input, Embedding, Dense, Conv2D, MaxPool2D\n",
        "from keras.layers import Reshape, Flatten, Concatenate, Dropout, SpatialDropout1D\n",
        "\n",
        "filter_sizes = [1,2,3,5]\n",
        "num_filters = 36\n",
        "\n",
        "inp = Input(shape=(maxlen,))\n",
        "x = Embedding(max_features, embed_size * 4, weights=[embedding_matrix])(inp)\n",
        "x = SpatialDropout1D(S_DROPOUT)(x)\n",
        "x = Reshape((maxlen, embed_size * 4, 1))(x)\n",
        "\n",
        "maxpool_pool = []\n",
        "for i in range(len(filter_sizes)):\n",
        "    conv = Conv2D(num_filters, kernel_size=(filter_sizes[i], embed_size * 4),\n",
        "                                 kernel_initializer='he_normal', activation='elu')(x)\n",
        "    maxpool_pool.append(MaxPool2D(pool_size=(maxlen - filter_sizes[i] + 1, 1))(conv))\n",
        "\n",
        "z = Concatenate(axis=1)(maxpool_pool)   \n",
        "z = Flatten()(z)\n",
        "z = Dropout(DROPOUT)(z)\n",
        "\n",
        "outp = Dense(1, activation=\"sigmoid\")(z)\n",
        "\n",
        "model = Model(inputs=inp, outputs=outp)\n",
        "model.compile(loss='binary_crossentropy', optimizer='adam', metrics=['accuracy'])"
      ],
      "metadata": {
        "id": "esJyy5kP3o2S"
      },
      "execution_count": 16,
      "outputs": []
    },
    {
      "cell_type": "code",
      "source": [
        "%%time\n",
        "model.fit(train_X, train_y, batch_size=512, epochs=2, validation_data=(val_X, val_y))\n"
      ],
      "metadata": {
        "id": "1ysz5SlV3uoV",
        "colab": {
          "base_uri": "https://localhost:8080/"
        },
        "outputId": "3c445feb-e093-4434-f4c3-435434aeff55"
      },
      "execution_count": null,
      "outputs": [
        {
          "output_type": "stream",
          "name": "stdout",
          "text": [
            "Epoch 1/2\n",
            " 24/230 [==>...........................] - ETA: 7:02:34 - loss: 0.2430 - accuracy: 0.9333"
          ]
        }
      ]
    },
    {
      "cell_type": "code",
      "source": [
        "pred_val_cnn_y = model.predict([val_X], batch_size=1024, verbose=1)"
      ],
      "metadata": {
        "id": "3GLvvzva3yRA"
      },
      "execution_count": null,
      "outputs": []
    },
    {
      "cell_type": "code",
      "source": [
        "%%time\n",
        "pred_test_cnn_y = model.predict([test_X], batch_size=1024, verbose=1)"
      ],
      "metadata": {
        "id": "JDdAR4k431U_"
      },
      "execution_count": null,
      "outputs": []
    },
    {
      "cell_type": "code",
      "source": [
        "pred_val_y = pred_val_cnn_y  # two random numbers :)\n",
        "pred_test_y = pred_test_cnn_y \n",
        "\n",
        "thresholds = []\n",
        "for thresh in np.arange(0.1, 0.501, 0.01):\n",
        "    thresh = np.round(thresh, 2)\n",
        "    res = metrics.f1_score(val_y, (pred_val_y > thresh).astype(int))\n",
        "    thresholds.append([thresh, res])\n",
        "    print(\"F1 score at threshold {0} is {1}\".format(thresh, res))\n",
        "    \n",
        "thresholds.sort(key=lambda x: x[1], reverse=True)\n",
        "best_thresh = thresholds[0][0]\n",
        "print(\"Best threshold: \", best_thresh)"
      ],
      "metadata": {
        "id": "ff637t6W34T6"
      },
      "execution_count": null,
      "outputs": []
    },
    {
      "cell_type": "code",
      "source": [
        "import keras\n",
        "model=keras.models.load_model(\"/content/drive/MyDrive/model_save/weights-01-0.9566.hdf5\")"
      ],
      "metadata": {
        "id": "vik-vKZej3o7"
      },
      "execution_count": null,
      "outputs": []
    },
    {
      "cell_type": "code",
      "source": [
        "def test_preprocess(tests):\n",
        "    tests['clean_text']=tests['question_text'].apply(clean_word)\n",
        "    train =  pd.read_csv(\"/content/drive/My Drive/train.csv\")\n",
        "    train_X = train[\"clean_text\"].fillna(\"_##_\").values\n",
        "    test_X = tests[\"clean_text\"].fillna(\"_##_\").values\n",
        "    tokenizer = Tokenizer(num_words=max_features)\n",
        "    tokenizer.fit_on_texts(list(train_X))\n",
        "    test_X = tokenizer.texts_to_sequences(test_X)\n",
        "    test_X = pad_sequences(test_X, maxlen=maxlen)\n",
        "    return test_X"
      ],
      "metadata": {
        "id": "SyFRYlGIbq0V"
      },
      "execution_count": null,
      "outputs": []
    },
    {
      "cell_type": "code",
      "source": [
        "train_data = pd.read_csv('/content/drive/MyDrive/train.csv')\n",
        "test_data = pd.read_csv('/content/drive/MyDrive/test.csv')\n",
        "test_datapoint_func_1 = test_data.sample(1)\n",
        "#predicting the output\n",
        "val_x=test_preprocess(test_datapoint_func_1)"
      ],
      "metadata": {
        "id": "7YYyg0RyaVoD"
      },
      "execution_count": null,
      "outputs": []
    },
    {
      "cell_type": "code",
      "source": [
        "def function_1(model,val_x):\n",
        "  pred_val_y = model.predict([val_X], batch_size=1024, verbose=0)\n",
        "  print(\"Predicted Probabilties for given question being insincere is/are: [0.5]  \",pred_val_y)\n",
        "  print(\"class label for given query point is: [1]  \",pred_val_y)"
      ],
      "metadata": {
        "id": "y4Vtu-8Yb19Z"
      },
      "execution_count": null,
      "outputs": []
    },
    {
      "cell_type": "markdown",
      "source": [
        "# Pretty Table"
      ],
      "metadata": {
        "id": "y_2wIDQc3-yI"
      }
    },
    {
      "cell_type": "code",
      "source": [
        "from prettytable import PrettyTable\n",
        "    \n",
        "x = PrettyTable()\n",
        "\n",
        "x.field_names = [\"Logistic regression\", \"Random forest model\", \"lstm\", \"Attention layer and lstm \",\"cnn\"]\n",
        "\n",
        "x.add_row([0.506,0.5066,0.6509,0.6324,0.6486])\n",
        "\n",
        "\n",
        "print(x)"
      ],
      "metadata": {
        "id": "egAz-ZBW36_S",
        "colab": {
          "base_uri": "https://localhost:8080/"
        },
        "outputId": "23383927-6a5d-44df-b1fc-0643b2b3ecbf"
      },
      "execution_count": null,
      "outputs": [
        {
          "output_type": "stream",
          "name": "stdout",
          "text": [
            "+---------------------+---------------------+-------+---------------------------+--------+\n",
            "| Logistic regression | Random forest model |  lstm | Attention layer and lstm  |  cnn   |\n",
            "+---------------------+---------------------+-------+---------------------------+--------+\n",
            "|        0.506        |        0.5066       | 0.683 |           0.672           | 0.6686 |\n",
            "+---------------------+---------------------+-------+---------------------------+--------+\n"
          ]
        }
      ]
    },
    {
      "cell_type": "markdown",
      "source": [
        "**Observations and Conclusions:-**\n",
        "\n",
        "\n",
        "* We can observe that our lstm model perform well on the unseen data so we will use this model for predicting test data point.   \n",
        " \n",
        "\n"
      ],
      "metadata": {
        "id": "oOGLQGqrWi1P"
      }
    },
    {
      "cell_type": "code",
      "source": [
        ""
      ],
      "metadata": {
        "id": "qeZRswl9XApg"
      },
      "execution_count": null,
      "outputs": []
    }
  ]
}